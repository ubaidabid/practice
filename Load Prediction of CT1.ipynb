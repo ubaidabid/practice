{
 "cells": [
  {
   "cell_type": "markdown",
   "metadata": {},
   "source": [
    "# Load prediction of CT1 based on Ambient Conditions\n",
    "### by analysis of ambient condition, deduce the ideal load of the machine using previous data\n",
    "5 year data  \n",
    "convert into single df  \n",
    "part data into 80:20 ratio (80% training data and 20% test data)"
   ]
  },
  {
   "cell_type": "code",
   "execution_count": 1,
   "metadata": {},
   "outputs": [],
   "source": [
    "import numpy as np\n",
    "import pandas as pd\n",
    "from sklearn import linear_model\n",
    "from sklearn.model_selection import train_test_split\n",
    "from matplotlib import pyplot as plt\n",
    "#from pandas import ExcelWriter\n",
    "#from pandas import ExcelFile\n",
    "df = pd.read_excel('data/Ops Monthly Returns 2016.xls',\n",
    "                   #skiprows = [0,1,3,4],            \n",
    "                   #skipfooter= 48, #Number of rows to skip from bottom\n",
    "                   usecols= \"B:E\", #Column index in Excel format\n",
    "                   sheet_name=0)"
   ]
  },
  {
   "cell_type": "code",
   "execution_count": 2,
   "metadata": {},
   "outputs": [
    {
     "name": "stdout",
     "output_type": "stream",
     "text": [
      "Index(['Amb_Temp_F', 'Avg_RH_Pct', 'Base_hours', 'Gen_MWH'], dtype='object')\n"
     ]
    },
    {
     "data": {
      "text/html": [
       "<div>\n",
       "<style scoped>\n",
       "    .dataframe tbody tr th:only-of-type {\n",
       "        vertical-align: middle;\n",
       "    }\n",
       "\n",
       "    .dataframe tbody tr th {\n",
       "        vertical-align: top;\n",
       "    }\n",
       "\n",
       "    .dataframe thead th {\n",
       "        text-align: right;\n",
       "    }\n",
       "</style>\n",
       "<table border=\"1\" class=\"dataframe\">\n",
       "  <thead>\n",
       "    <tr style=\"text-align: right;\">\n",
       "      <th></th>\n",
       "      <th>Amb_Temp_F</th>\n",
       "      <th>Avg_RH_Pct</th>\n",
       "      <th>Base_hours</th>\n",
       "      <th>Gen_MWH</th>\n",
       "    </tr>\n",
       "  </thead>\n",
       "  <tbody>\n",
       "    <tr>\n",
       "      <th>0</th>\n",
       "      <td>82.20</td>\n",
       "      <td>0.5470</td>\n",
       "      <td>24</td>\n",
       "      <td>998</td>\n",
       "    </tr>\n",
       "    <tr>\n",
       "      <th>1</th>\n",
       "      <td>79.50</td>\n",
       "      <td>0.6550</td>\n",
       "      <td>24</td>\n",
       "      <td>993</td>\n",
       "    </tr>\n",
       "    <tr>\n",
       "      <th>2</th>\n",
       "      <td>80.70</td>\n",
       "      <td>0.6210</td>\n",
       "      <td>24</td>\n",
       "      <td>988</td>\n",
       "    </tr>\n",
       "    <tr>\n",
       "      <th>3</th>\n",
       "      <td>81.60</td>\n",
       "      <td>0.6280</td>\n",
       "      <td>24</td>\n",
       "      <td>980</td>\n",
       "    </tr>\n",
       "    <tr>\n",
       "      <th>4</th>\n",
       "      <td>78.00</td>\n",
       "      <td>0.6310</td>\n",
       "      <td>24</td>\n",
       "      <td>995</td>\n",
       "    </tr>\n",
       "    <tr>\n",
       "      <th>...</th>\n",
       "      <td>...</td>\n",
       "      <td>...</td>\n",
       "      <td>...</td>\n",
       "      <td>...</td>\n",
       "    </tr>\n",
       "    <tr>\n",
       "      <th>272</th>\n",
       "      <td>60.69</td>\n",
       "      <td>0.6341</td>\n",
       "      <td>24</td>\n",
       "      <td>1100</td>\n",
       "    </tr>\n",
       "    <tr>\n",
       "      <th>273</th>\n",
       "      <td>62.30</td>\n",
       "      <td>0.7090</td>\n",
       "      <td>24</td>\n",
       "      <td>1092</td>\n",
       "    </tr>\n",
       "    <tr>\n",
       "      <th>274</th>\n",
       "      <td>62.79</td>\n",
       "      <td>0.7565</td>\n",
       "      <td>24</td>\n",
       "      <td>1110</td>\n",
       "    </tr>\n",
       "    <tr>\n",
       "      <th>275</th>\n",
       "      <td>55.00</td>\n",
       "      <td>0.8900</td>\n",
       "      <td>24</td>\n",
       "      <td>1128</td>\n",
       "    </tr>\n",
       "    <tr>\n",
       "      <th>276</th>\n",
       "      <td>59.00</td>\n",
       "      <td>0.7900</td>\n",
       "      <td>24</td>\n",
       "      <td>1133</td>\n",
       "    </tr>\n",
       "  </tbody>\n",
       "</table>\n",
       "<p>249 rows × 4 columns</p>\n",
       "</div>"
      ],
      "text/plain": [
       "     Amb_Temp_F  Avg_RH_Pct  Base_hours  Gen_MWH\n",
       "0         82.20      0.5470          24      998\n",
       "1         79.50      0.6550          24      993\n",
       "2         80.70      0.6210          24      988\n",
       "3         81.60      0.6280          24      980\n",
       "4         78.00      0.6310          24      995\n",
       "..          ...         ...         ...      ...\n",
       "272       60.69      0.6341          24     1100\n",
       "273       62.30      0.7090          24     1092\n",
       "274       62.79      0.7565          24     1110\n",
       "275       55.00      0.8900          24     1128\n",
       "276       59.00      0.7900          24     1133\n",
       "\n",
       "[249 rows x 4 columns]"
      ]
     },
     "execution_count": 2,
     "metadata": {},
     "output_type": "execute_result"
    }
   ],
   "source": [
    "print(df.columns)\n",
    "\n",
    "df=df[df[\"Base_hours\"]==24]\n",
    "df"
   ]
  },
  {
   "cell_type": "code",
   "execution_count": 3,
   "metadata": {},
   "outputs": [
    {
     "data": {
      "text/plain": [
       "0       998\n",
       "1       993\n",
       "2       988\n",
       "3       980\n",
       "4       995\n",
       "       ... \n",
       "272    1100\n",
       "273    1092\n",
       "274    1110\n",
       "275    1128\n",
       "276    1133\n",
       "Name: Gen_MWH, Length: 249, dtype: int64"
      ]
     },
     "execution_count": 3,
     "metadata": {},
     "output_type": "execute_result"
    }
   ],
   "source": [
    "y=df[\"Gen_MWH\"]\n",
    "y"
   ]
  },
  {
   "cell_type": "code",
   "execution_count": 4,
   "metadata": {},
   "outputs": [
    {
     "data": {
      "text/html": [
       "<div>\n",
       "<style scoped>\n",
       "    .dataframe tbody tr th:only-of-type {\n",
       "        vertical-align: middle;\n",
       "    }\n",
       "\n",
       "    .dataframe tbody tr th {\n",
       "        vertical-align: top;\n",
       "    }\n",
       "\n",
       "    .dataframe thead th {\n",
       "        text-align: right;\n",
       "    }\n",
       "</style>\n",
       "<table border=\"1\" class=\"dataframe\">\n",
       "  <thead>\n",
       "    <tr style=\"text-align: right;\">\n",
       "      <th></th>\n",
       "      <th>Amb_Temp_F</th>\n",
       "      <th>Avg_RH_Pct</th>\n",
       "      <th>Base_hours</th>\n",
       "    </tr>\n",
       "  </thead>\n",
       "  <tbody>\n",
       "    <tr>\n",
       "      <th>0</th>\n",
       "      <td>82.20</td>\n",
       "      <td>0.5470</td>\n",
       "      <td>24</td>\n",
       "    </tr>\n",
       "    <tr>\n",
       "      <th>1</th>\n",
       "      <td>79.50</td>\n",
       "      <td>0.6550</td>\n",
       "      <td>24</td>\n",
       "    </tr>\n",
       "    <tr>\n",
       "      <th>2</th>\n",
       "      <td>80.70</td>\n",
       "      <td>0.6210</td>\n",
       "      <td>24</td>\n",
       "    </tr>\n",
       "    <tr>\n",
       "      <th>3</th>\n",
       "      <td>81.60</td>\n",
       "      <td>0.6280</td>\n",
       "      <td>24</td>\n",
       "    </tr>\n",
       "    <tr>\n",
       "      <th>4</th>\n",
       "      <td>78.00</td>\n",
       "      <td>0.6310</td>\n",
       "      <td>24</td>\n",
       "    </tr>\n",
       "    <tr>\n",
       "      <th>...</th>\n",
       "      <td>...</td>\n",
       "      <td>...</td>\n",
       "      <td>...</td>\n",
       "    </tr>\n",
       "    <tr>\n",
       "      <th>272</th>\n",
       "      <td>60.69</td>\n",
       "      <td>0.6341</td>\n",
       "      <td>24</td>\n",
       "    </tr>\n",
       "    <tr>\n",
       "      <th>273</th>\n",
       "      <td>62.30</td>\n",
       "      <td>0.7090</td>\n",
       "      <td>24</td>\n",
       "    </tr>\n",
       "    <tr>\n",
       "      <th>274</th>\n",
       "      <td>62.79</td>\n",
       "      <td>0.7565</td>\n",
       "      <td>24</td>\n",
       "    </tr>\n",
       "    <tr>\n",
       "      <th>275</th>\n",
       "      <td>55.00</td>\n",
       "      <td>0.8900</td>\n",
       "      <td>24</td>\n",
       "    </tr>\n",
       "    <tr>\n",
       "      <th>276</th>\n",
       "      <td>59.00</td>\n",
       "      <td>0.7900</td>\n",
       "      <td>24</td>\n",
       "    </tr>\n",
       "  </tbody>\n",
       "</table>\n",
       "<p>249 rows × 3 columns</p>\n",
       "</div>"
      ],
      "text/plain": [
       "     Amb_Temp_F  Avg_RH_Pct  Base_hours\n",
       "0         82.20      0.5470          24\n",
       "1         79.50      0.6550          24\n",
       "2         80.70      0.6210          24\n",
       "3         81.60      0.6280          24\n",
       "4         78.00      0.6310          24\n",
       "..          ...         ...         ...\n",
       "272       60.69      0.6341          24\n",
       "273       62.30      0.7090          24\n",
       "274       62.79      0.7565          24\n",
       "275       55.00      0.8900          24\n",
       "276       59.00      0.7900          24\n",
       "\n",
       "[249 rows x 3 columns]"
      ]
     },
     "execution_count": 4,
     "metadata": {},
     "output_type": "execute_result"
    }
   ],
   "source": [
    "df=df.drop(columns=\"Gen_MWH\")\n",
    "df"
   ]
  },
  {
   "cell_type": "code",
   "execution_count": 5,
   "metadata": {},
   "outputs": [
    {
     "name": "stdout",
     "output_type": "stream",
     "text": [
      "(199, 3) (199,)\n",
      "(50, 3) (50,)\n"
     ]
    }
   ],
   "source": [
    "# create training and testing vars\n",
    "X_train, X_test, y_train, y_test = train_test_split(df, y, test_size=0.2)\n",
    "print(X_train.shape, y_train.shape)\n",
    "print(X_test.shape, y_test.shape)"
   ]
  },
  {
   "cell_type": "code",
   "execution_count": 6,
   "metadata": {},
   "outputs": [],
   "source": [
    "# fit a model\n",
    "lm = linear_model.LinearRegression()\n",
    "model = lm.fit(X_train, y_train)\n",
    "predictions = model.predict(X_test)"
   ]
  },
  {
   "cell_type": "code",
   "execution_count": 7,
   "metadata": {},
   "outputs": [
    {
     "data": {
      "text/plain": [
       "Text(0, 0.5, 'Predictions')"
      ]
     },
     "execution_count": 7,
     "metadata": {},
     "output_type": "execute_result"
    },
    {
     "data": {
      "image/png": "[encoded data removed]",
      "text/plain": [
       "<Figure size 432x288 with 1 Axes>"
      ]
     },
     "metadata": {
      "needs_background": "light"
     },
     "output_type": "display_data"
    }
   ],
   "source": [
    "## The line / model\n",
    "plt.scatter(y_test, predictions)\n",
    "plt.xlabel(\"True Values\")\n",
    "plt.ylabel(\"Predictions\")"
   ]
  },
  {
   "cell_type": "code",
   "execution_count": 8,
   "metadata": {},
   "outputs": [
    {
     "data": {
      "text/plain": [
       "array([  9.39987827,   5.473218  , -57.33178925, -88.71111754,\n",
       "         4.63861491,   2.86801478,  -5.40225598,  18.3844341 ,\n",
       "         7.26340758,  -0.73299292, -15.99980339,  25.78362248,\n",
       "        42.68160109,   5.35313252,  14.94185948,  10.17814085,\n",
       "        -5.82863079,  16.16438576, -64.46756279,   0.2371288 ,\n",
       "         5.93662099,  -1.19901918,  -0.1671373 ,  33.27290821,\n",
       "        15.74289079,  10.13264906, -14.31942618,  13.39269957,\n",
       "         4.22381301,  22.13413898, -81.9882089 ,   0.79488752,\n",
       "       -61.17627214,  10.0271066 ,  -6.86630797,  44.51774124,\n",
       "         8.9483724 , -25.94425028,  -0.10248339, -55.0631476 ,\n",
       "        -4.92367265,   4.77729468,  12.46817949,  -9.64820067,\n",
       "        -2.95623288,  39.83153972,  14.54772936,   8.68694553,\n",
       "         7.88991768,   5.67315525])"
      ]
     },
     "execution_count": 8,
     "metadata": {},
     "output_type": "execute_result"
    }
   ],
   "source": [
    "#d=y_test-predictions\n",
    "y_test.values-predictions"
   ]
  },
  {
   "cell_type": "code",
   "execution_count": 9,
   "metadata": {},
   "outputs": [
    {
     "data": {
      "text/html": [
       "<div>\n",
       "<style scoped>\n",
       "    .dataframe tbody tr th:only-of-type {\n",
       "        vertical-align: middle;\n",
       "    }\n",
       "\n",
       "    .dataframe tbody tr th {\n",
       "        vertical-align: top;\n",
       "    }\n",
       "\n",
       "    .dataframe thead th {\n",
       "        text-align: right;\n",
       "    }\n",
       "</style>\n",
       "<table border=\"1\" class=\"dataframe\">\n",
       "  <thead>\n",
       "    <tr style=\"text-align: right;\">\n",
       "      <th></th>\n",
       "      <th>Amb_Temp_F</th>\n",
       "      <th>Avg_RH_Pct</th>\n",
       "    </tr>\n",
       "  </thead>\n",
       "  <tbody>\n",
       "    <tr>\n",
       "      <th>0</th>\n",
       "      <td>82.20</td>\n",
       "      <td>0.5470</td>\n",
       "    </tr>\n",
       "    <tr>\n",
       "      <th>1</th>\n",
       "      <td>79.50</td>\n",
       "      <td>0.6550</td>\n",
       "    </tr>\n",
       "    <tr>\n",
       "      <th>2</th>\n",
       "      <td>80.70</td>\n",
       "      <td>0.6210</td>\n",
       "    </tr>\n",
       "    <tr>\n",
       "      <th>3</th>\n",
       "      <td>81.60</td>\n",
       "      <td>0.6280</td>\n",
       "    </tr>\n",
       "    <tr>\n",
       "      <th>4</th>\n",
       "      <td>78.00</td>\n",
       "      <td>0.6310</td>\n",
       "    </tr>\n",
       "    <tr>\n",
       "      <th>...</th>\n",
       "      <td>...</td>\n",
       "      <td>...</td>\n",
       "    </tr>\n",
       "    <tr>\n",
       "      <th>272</th>\n",
       "      <td>60.69</td>\n",
       "      <td>0.6341</td>\n",
       "    </tr>\n",
       "    <tr>\n",
       "      <th>273</th>\n",
       "      <td>62.30</td>\n",
       "      <td>0.7090</td>\n",
       "    </tr>\n",
       "    <tr>\n",
       "      <th>274</th>\n",
       "      <td>62.79</td>\n",
       "      <td>0.7565</td>\n",
       "    </tr>\n",
       "    <tr>\n",
       "      <th>275</th>\n",
       "      <td>55.00</td>\n",
       "      <td>0.8900</td>\n",
       "    </tr>\n",
       "    <tr>\n",
       "      <th>276</th>\n",
       "      <td>59.00</td>\n",
       "      <td>0.7900</td>\n",
       "    </tr>\n",
       "  </tbody>\n",
       "</table>\n",
       "<p>249 rows × 2 columns</p>\n",
       "</div>"
      ],
      "text/plain": [
       "     Amb_Temp_F  Avg_RH_Pct\n",
       "0         82.20      0.5470\n",
       "1         79.50      0.6550\n",
       "2         80.70      0.6210\n",
       "3         81.60      0.6280\n",
       "4         78.00      0.6310\n",
       "..          ...         ...\n",
       "272       60.69      0.6341\n",
       "273       62.30      0.7090\n",
       "274       62.79      0.7565\n",
       "275       55.00      0.8900\n",
       "276       59.00      0.7900\n",
       "\n",
       "[249 rows x 2 columns]"
      ]
     },
     "execution_count": 9,
     "metadata": {},
     "output_type": "execute_result"
    }
   ],
   "source": [
    "df=df.drop(columns=\"Base_hours\")\n",
    "df"
   ]
  },
  {
   "cell_type": "code",
   "execution_count": 10,
   "metadata": {},
   "outputs": [
    {
     "name": "stdout",
     "output_type": "stream",
     "text": [
      "(199, 2) (199,)\n",
      "(50, 2) (50,)\n"
     ]
    }
   ],
   "source": [
    "# create training and testing vars\n",
    "X_train, X_test, y_train, y_test = train_test_split(df, y, test_size=0.2)\n",
    "print(X_train.shape, y_train.shape)\n",
    "print(X_test.shape, y_test.shape)"
   ]
  },
  {
   "cell_type": "code",
   "execution_count": 11,
   "metadata": {},
   "outputs": [],
   "source": [
    "# fit a model\n",
    "lm = linear_model.LinearRegression()\n",
    "model = lm.fit(X_train, y_train)\n",
    "predictions = model.predict(X_test)"
   ]
  },
  {
   "cell_type": "code",
   "execution_count": 12,
   "metadata": {},
   "outputs": [
    {
     "data": {
      "text/plain": [
       "Text(0, 0.5, 'Predictions')"
      ]
     },
     "execution_count": 12,
     "metadata": {},
     "output_type": "execute_result"
    },
    {
     "data": {
      "image/png": "[encoded data removed]",
      "text/plain": [
       "<Figure size 432x288 with 1 Axes>"
      ]
     },
     "metadata": {
      "needs_background": "light"
     },
     "output_type": "display_data"
    }
   ],
   "source": [
    "## The line / model\n",
    "plt.scatter(y_test, predictions)\n",
    "plt.xlabel(\"True Values\")\n",
    "plt.ylabel(\"Predictions\")"
   ]
  },
  {
   "cell_type": "code",
   "execution_count": 13,
   "metadata": {},
   "outputs": [
    {
     "data": {
      "text/plain": [
       "array([[[1019, 1021,   -2],\n",
       "        [ 997, 1002,   -5],\n",
       "        [1084, 1049,   35],\n",
       "        [1048, 1046,    2],\n",
       "        [1010, 1012,   -2],\n",
       "        [ 988, 1005,  -17],\n",
       "        [1004, 1009,   -5],\n",
       "        [1004, 1007,   -3],\n",
       "        [1032, 1038,   -6],\n",
       "        [1025, 1030,   -5],\n",
       "        [ 998, 1048,  -50],\n",
       "        [1024, 1023,    1],\n",
       "        [1012, 1009,    3],\n",
       "        [1090, 1064,   26],\n",
       "        [1005, 1001,    4],\n",
       "        [1131, 1085,   46],\n",
       "        [1006, 1058,  -52],\n",
       "        [1077, 1065,   12],\n",
       "        [1083, 1069,   14],\n",
       "        [1068, 1055,   13],\n",
       "        [ 975,  999,  -24],\n",
       "        [1154, 1085,   69],\n",
       "        [1004, 1002,    2],\n",
       "        [1018, 1017,    1],\n",
       "        [1107, 1086,   21],\n",
       "        [1022, 1018,    4],\n",
       "        [1053, 1053,    0],\n",
       "        [1016, 1005,   11],\n",
       "        [1015, 1008,    7],\n",
       "        [1002, 1059,  -57],\n",
       "        [1015, 1014,    1],\n",
       "        [1110, 1084,   26],\n",
       "        [1000, 1002,   -2],\n",
       "        [1060, 1037,   23],\n",
       "        [1100, 1101,   -1],\n",
       "        [ 985,  999,  -14],\n",
       "        [1054, 1050,    4],\n",
       "        [1059, 1035,   24],\n",
       "        [1131, 1087,   44],\n",
       "        [1092, 1073,   19],\n",
       "        [1134, 1082,   52],\n",
       "        [ 995,  996,   -1],\n",
       "        [1007, 1006,    1],\n",
       "        [1071, 1039,   32],\n",
       "        [1022, 1018,    4],\n",
       "        [1010, 1004,    6],\n",
       "        [1005, 1058,  -53],\n",
       "        [1066, 1040,   26],\n",
       "        [ 998, 1011,  -13],\n",
       "        [1073, 1055,   18]]], dtype=int64)"
      ]
     },
     "execution_count": 13,
     "metadata": {},
     "output_type": "execute_result"
    }
   ],
   "source": [
    "type(predictions)\n",
    "predictions=predictions.astype(int)\n",
    "np.dstack((y_test.values,predictions,(y_test.values-predictions)))"
   ]
  },
  {
   "cell_type": "code",
   "execution_count": 14,
   "metadata": {},
   "outputs": [
    {
     "data": {
      "text/plain": [
       "4.78"
      ]
     },
     "execution_count": 14,
     "metadata": {},
     "output_type": "execute_result"
    }
   ],
   "source": [
    "np.average((y_test.values-predictions))"
   ]
  }
 ],
 "metadata": {
  "kernelspec": {
   "display_name": "Python 3",
   "language": "python",
   "name": "python3"
  },
  "language_info": {
   "codemirror_mode": {
    "name": "ipython",
    "version": 3
   },
   "file_extension": ".py",
   "mimetype": "text/x-python",
   "name": "python",
   "nbconvert_exporter": "python",
   "pygments_lexer": "ipython3",
   "version": "3.8.2"
  }
 },
 "nbformat": 4,
 "nbformat_minor": 4
}
