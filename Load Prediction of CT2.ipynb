{
 "cells": [
  {
   "cell_type": "markdown",
   "metadata": {},
   "source": [
    "# Load prediction of CT1 based on Ambient Conditions\n",
    "### by analysis of ambient condition, deduce the ideal load of the machine using previous data\n",
    "5 year data  \n",
    "convert into single df  \n",
    "part data into 80:20 ratio (80% training data and 20% test data)"
   ]
  },
  {
   "cell_type": "code",
   "execution_count": 1,
   "metadata": {},
   "outputs": [],
   "source": [
    "import numpy as np\n",
    "import pandas as pd\n",
    "from sklearn import datasets, linear_model\n",
    "from sklearn.model_selection import train_test_split\n",
    "from matplotlib import pyplot as plt\n",
    "#from pandas import ExcelWriter\n",
    "#from pandas import ExcelFile\n",
    "df = pd.read_excel('data/Ops Monthly Returns 2016.xls',\n",
    "                   #skiprows = [0,1,3,4],            \n",
    "                   #skipfooter= 48, #Number of rows to skip from bottom\n",
    "                   usecols= \"B:F\", #Column index in Excel format\n",
    "                   sheet_name=0)"
   ]
  },
  {
   "cell_type": "code",
   "execution_count": 2,
   "metadata": {},
   "outputs": [
    {
     "name": "stdout",
     "output_type": "stream",
     "text": [
      "Index(['Amb_Temp_F', 'Avg_RH_Pct', 'Base_hours', 'Gen_MWH', 'Comp_eff'], dtype='object')\n"
     ]
    },
    {
     "data": {
      "text/html": [
       "<div>\n",
       "<style scoped>\n",
       "    .dataframe tbody tr th:only-of-type {\n",
       "        vertical-align: middle;\n",
       "    }\n",
       "\n",
       "    .dataframe tbody tr th {\n",
       "        vertical-align: top;\n",
       "    }\n",
       "\n",
       "    .dataframe thead th {\n",
       "        text-align: right;\n",
       "    }\n",
       "</style>\n",
       "<table border=\"1\" class=\"dataframe\">\n",
       "  <thead>\n",
       "    <tr style=\"text-align: right;\">\n",
       "      <th></th>\n",
       "      <th>Amb_Temp_F</th>\n",
       "      <th>Avg_RH_Pct</th>\n",
       "      <th>Base_hours</th>\n",
       "      <th>Gen_MWH</th>\n",
       "      <th>Comp_eff</th>\n",
       "    </tr>\n",
       "  </thead>\n",
       "  <tbody>\n",
       "    <tr>\n",
       "      <th>0</th>\n",
       "      <td>80.70</td>\n",
       "      <td>0.6210</td>\n",
       "      <td>24</td>\n",
       "      <td>1064</td>\n",
       "      <td>85.700</td>\n",
       "    </tr>\n",
       "    <tr>\n",
       "      <th>1</th>\n",
       "      <td>81.60</td>\n",
       "      <td>0.6280</td>\n",
       "      <td>24</td>\n",
       "      <td>1057</td>\n",
       "      <td>85.700</td>\n",
       "    </tr>\n",
       "    <tr>\n",
       "      <th>2</th>\n",
       "      <td>78.00</td>\n",
       "      <td>0.6310</td>\n",
       "      <td>24</td>\n",
       "      <td>1072</td>\n",
       "      <td>85.700</td>\n",
       "    </tr>\n",
       "    <tr>\n",
       "      <th>3</th>\n",
       "      <td>81.00</td>\n",
       "      <td>0.4790</td>\n",
       "      <td>24</td>\n",
       "      <td>1086</td>\n",
       "      <td>85.540</td>\n",
       "    </tr>\n",
       "    <tr>\n",
       "      <th>4</th>\n",
       "      <td>81.10</td>\n",
       "      <td>0.4830</td>\n",
       "      <td>24</td>\n",
       "      <td>1087</td>\n",
       "      <td>85.570</td>\n",
       "    </tr>\n",
       "    <tr>\n",
       "      <th>...</th>\n",
       "      <td>...</td>\n",
       "      <td>...</td>\n",
       "      <td>...</td>\n",
       "      <td>...</td>\n",
       "      <td>...</td>\n",
       "    </tr>\n",
       "    <tr>\n",
       "      <th>270</th>\n",
       "      <td>60.69</td>\n",
       "      <td>0.6341</td>\n",
       "      <td>24</td>\n",
       "      <td>1095</td>\n",
       "      <td>84.480</td>\n",
       "    </tr>\n",
       "    <tr>\n",
       "      <th>271</th>\n",
       "      <td>62.30</td>\n",
       "      <td>0.7090</td>\n",
       "      <td>24</td>\n",
       "      <td>1073</td>\n",
       "      <td>84.230</td>\n",
       "    </tr>\n",
       "    <tr>\n",
       "      <th>272</th>\n",
       "      <td>62.79</td>\n",
       "      <td>0.7565</td>\n",
       "      <td>24</td>\n",
       "      <td>1056</td>\n",
       "      <td>84.019</td>\n",
       "    </tr>\n",
       "    <tr>\n",
       "      <th>273</th>\n",
       "      <td>55.00</td>\n",
       "      <td>0.8900</td>\n",
       "      <td>24</td>\n",
       "      <td>1077</td>\n",
       "      <td>84.010</td>\n",
       "    </tr>\n",
       "    <tr>\n",
       "      <th>274</th>\n",
       "      <td>59.00</td>\n",
       "      <td>0.7900</td>\n",
       "      <td>24</td>\n",
       "      <td>1070</td>\n",
       "      <td>84.180</td>\n",
       "    </tr>\n",
       "  </tbody>\n",
       "</table>\n",
       "<p>251 rows × 5 columns</p>\n",
       "</div>"
      ],
      "text/plain": [
       "     Amb_Temp_F  Avg_RH_Pct  Base_hours  Gen_MWH Comp_eff\n",
       "0         80.70      0.6210          24     1064   85.700\n",
       "1         81.60      0.6280          24     1057   85.700\n",
       "2         78.00      0.6310          24     1072   85.700\n",
       "3         81.00      0.4790          24     1086   85.540\n",
       "4         81.10      0.4830          24     1087   85.570\n",
       "..          ...         ...         ...      ...      ...\n",
       "270       60.69      0.6341          24     1095   84.480\n",
       "271       62.30      0.7090          24     1073   84.230\n",
       "272       62.79      0.7565          24     1056   84.019\n",
       "273       55.00      0.8900          24     1077   84.010\n",
       "274       59.00      0.7900          24     1070   84.180\n",
       "\n",
       "[251 rows x 5 columns]"
      ]
     },
     "execution_count": 2,
     "metadata": {},
     "output_type": "execute_result"
    }
   ],
   "source": [
    "print(df.columns)\n",
    "\n",
    "df=df[df[\"Base_hours\"]==24]\n",
    "df"
   ]
  },
  {
   "cell_type": "code",
   "execution_count": 3,
   "metadata": {},
   "outputs": [
    {
     "data": {
      "text/plain": [
       "0      1064\n",
       "1      1057\n",
       "2      1072\n",
       "3      1086\n",
       "4      1087\n",
       "       ... \n",
       "270    1095\n",
       "271    1073\n",
       "272    1056\n",
       "273    1077\n",
       "274    1070\n",
       "Name: Gen_MWH, Length: 251, dtype: int64"
      ]
     },
     "execution_count": 3,
     "metadata": {},
     "output_type": "execute_result"
    }
   ],
   "source": [
    "y=df[\"Gen_MWH\"]\n",
    "y"
   ]
  },
  {
   "cell_type": "code",
   "execution_count": 4,
   "metadata": {},
   "outputs": [
    {
     "data": {
      "text/html": [
       "<div>\n",
       "<style scoped>\n",
       "    .dataframe tbody tr th:only-of-type {\n",
       "        vertical-align: middle;\n",
       "    }\n",
       "\n",
       "    .dataframe tbody tr th {\n",
       "        vertical-align: top;\n",
       "    }\n",
       "\n",
       "    .dataframe thead th {\n",
       "        text-align: right;\n",
       "    }\n",
       "</style>\n",
       "<table border=\"1\" class=\"dataframe\">\n",
       "  <thead>\n",
       "    <tr style=\"text-align: right;\">\n",
       "      <th></th>\n",
       "      <th>Amb_Temp_F</th>\n",
       "      <th>Avg_RH_Pct</th>\n",
       "      <th>Base_hours</th>\n",
       "      <th>Comp_eff</th>\n",
       "    </tr>\n",
       "  </thead>\n",
       "  <tbody>\n",
       "    <tr>\n",
       "      <th>0</th>\n",
       "      <td>80.70</td>\n",
       "      <td>0.6210</td>\n",
       "      <td>24</td>\n",
       "      <td>85.700</td>\n",
       "    </tr>\n",
       "    <tr>\n",
       "      <th>1</th>\n",
       "      <td>81.60</td>\n",
       "      <td>0.6280</td>\n",
       "      <td>24</td>\n",
       "      <td>85.700</td>\n",
       "    </tr>\n",
       "    <tr>\n",
       "      <th>2</th>\n",
       "      <td>78.00</td>\n",
       "      <td>0.6310</td>\n",
       "      <td>24</td>\n",
       "      <td>85.700</td>\n",
       "    </tr>\n",
       "    <tr>\n",
       "      <th>3</th>\n",
       "      <td>81.00</td>\n",
       "      <td>0.4790</td>\n",
       "      <td>24</td>\n",
       "      <td>85.540</td>\n",
       "    </tr>\n",
       "    <tr>\n",
       "      <th>4</th>\n",
       "      <td>81.10</td>\n",
       "      <td>0.4830</td>\n",
       "      <td>24</td>\n",
       "      <td>85.570</td>\n",
       "    </tr>\n",
       "    <tr>\n",
       "      <th>...</th>\n",
       "      <td>...</td>\n",
       "      <td>...</td>\n",
       "      <td>...</td>\n",
       "      <td>...</td>\n",
       "    </tr>\n",
       "    <tr>\n",
       "      <th>270</th>\n",
       "      <td>60.69</td>\n",
       "      <td>0.6341</td>\n",
       "      <td>24</td>\n",
       "      <td>84.480</td>\n",
       "    </tr>\n",
       "    <tr>\n",
       "      <th>271</th>\n",
       "      <td>62.30</td>\n",
       "      <td>0.7090</td>\n",
       "      <td>24</td>\n",
       "      <td>84.230</td>\n",
       "    </tr>\n",
       "    <tr>\n",
       "      <th>272</th>\n",
       "      <td>62.79</td>\n",
       "      <td>0.7565</td>\n",
       "      <td>24</td>\n",
       "      <td>84.019</td>\n",
       "    </tr>\n",
       "    <tr>\n",
       "      <th>273</th>\n",
       "      <td>55.00</td>\n",
       "      <td>0.8900</td>\n",
       "      <td>24</td>\n",
       "      <td>84.010</td>\n",
       "    </tr>\n",
       "    <tr>\n",
       "      <th>274</th>\n",
       "      <td>59.00</td>\n",
       "      <td>0.7900</td>\n",
       "      <td>24</td>\n",
       "      <td>84.180</td>\n",
       "    </tr>\n",
       "  </tbody>\n",
       "</table>\n",
       "<p>251 rows × 4 columns</p>\n",
       "</div>"
      ],
      "text/plain": [
       "     Amb_Temp_F  Avg_RH_Pct  Base_hours Comp_eff\n",
       "0         80.70      0.6210          24   85.700\n",
       "1         81.60      0.6280          24   85.700\n",
       "2         78.00      0.6310          24   85.700\n",
       "3         81.00      0.4790          24   85.540\n",
       "4         81.10      0.4830          24   85.570\n",
       "..          ...         ...         ...      ...\n",
       "270       60.69      0.6341          24   84.480\n",
       "271       62.30      0.7090          24   84.230\n",
       "272       62.79      0.7565          24   84.019\n",
       "273       55.00      0.8900          24   84.010\n",
       "274       59.00      0.7900          24   84.180\n",
       "\n",
       "[251 rows x 4 columns]"
      ]
     },
     "execution_count": 4,
     "metadata": {},
     "output_type": "execute_result"
    }
   ],
   "source": [
    "df=df.drop(columns=[\"Gen_MWH\"])\n",
    "df"
   ]
  },
  {
   "cell_type": "code",
   "execution_count": 5,
   "metadata": {},
   "outputs": [
    {
     "name": "stdout",
     "output_type": "stream",
     "text": [
      "(200, 4) (200,)\n",
      "(51, 4) (51,)\n"
     ]
    }
   ],
   "source": [
    "# create training and testing vars\n",
    "X_train, X_test, y_train, y_test = train_test_split(df, y, test_size=0.2)\n",
    "print(X_train.shape, y_train.shape)\n",
    "print(X_test.shape, y_test.shape)"
   ]
  },
  {
   "cell_type": "code",
   "execution_count": 6,
   "metadata": {},
   "outputs": [],
   "source": [
    "# fit a model\n",
    "lm = linear_model.LinearRegression()\n",
    "model = lm.fit(X_train, y_train)\n",
    "predictions = model.predict(X_test)"
   ]
  },
  {
   "cell_type": "code",
   "execution_count": 7,
   "metadata": {},
   "outputs": [
    {
     "data": {
      "text/plain": [
       "Text(0, 0.5, 'Predictions')"
      ]
     },
     "execution_count": 7,
     "metadata": {},
     "output_type": "execute_result"
    },
    {
     "data": {
      "image/png": "[encoded data removed]",
      "text/plain": [
       "<Figure size 432x288 with 1 Axes>"
      ]
     },
     "metadata": {
      "needs_background": "light"
     },
     "output_type": "display_data"
    }
   ],
   "source": [
    "## The line / model\n",
    "%matplotlib inline\n",
    "plt.plot(y_test, predictions,'.')\n",
    "plt.xlabel(\"True Values\")\n",
    "plt.ylabel(\"Predictions\")"
   ]
  },
  {
   "cell_type": "code",
   "execution_count": 8,
   "metadata": {},
   "outputs": [
    {
     "data": {
      "text/plain": [
       "array([-8.99237242e+00,  2.00757474e+00, -1.07904228e-01, -5.60175446e-01,\n",
       "       -4.68718459e+00,  3.97149608e+00, -3.71484933e+00,  2.29964780e-01,\n",
       "        1.79527800e+00,  5.42874711e-01, -7.73320460e+00, -2.48260549e+00,\n",
       "       -1.04373820e+01, -5.25130498e+00,  3.75933180e-01, -1.07623440e+01,\n",
       "        6.46055339e+00, -1.20054165e+00, -7.05589985e+00, -1.06819922e+01,\n",
       "       -5.21150265e+00, -2.12739929e-02, -7.62479055e+00, -6.28197616e+00,\n",
       "        9.97177621e+00,  1.46472467e+01, -6.39992034e+00, -5.38230821e+00,\n",
       "       -3.04136334e+00, -5.48381946e+00, -2.36504511e+00,  1.75996691e+01,\n",
       "       -5.61045305e-01,  1.31452201e+01, -1.21015933e+01, -4.17833365e+00,\n",
       "        2.98721660e+00, -5.38909703e+00, -8.21461013e+00, -5.59238359e+00,\n",
       "       -1.59807122e+01, -1.43756600e+01, -2.58388706e+00,  2.22741866e+00,\n",
       "       -5.05972048e+00, -1.10468876e+01,  2.76183506e+01, -2.62590468e+00,\n",
       "       -4.90702681e+00,  1.37749093e+01,  9.87394065e+00])"
      ]
     },
     "execution_count": 8,
     "metadata": {},
     "output_type": "execute_result"
    }
   ],
   "source": [
    "#d=y_test-predictions\n",
    "y_test.values-predictions"
   ]
  },
  {
   "cell_type": "code",
   "execution_count": 9,
   "metadata": {},
   "outputs": [
    {
     "data": {
      "text/html": [
       "<div>\n",
       "<style scoped>\n",
       "    .dataframe tbody tr th:only-of-type {\n",
       "        vertical-align: middle;\n",
       "    }\n",
       "\n",
       "    .dataframe tbody tr th {\n",
       "        vertical-align: top;\n",
       "    }\n",
       "\n",
       "    .dataframe thead th {\n",
       "        text-align: right;\n",
       "    }\n",
       "</style>\n",
       "<table border=\"1\" class=\"dataframe\">\n",
       "  <thead>\n",
       "    <tr style=\"text-align: right;\">\n",
       "      <th></th>\n",
       "      <th>Amb_Temp_F</th>\n",
       "      <th>Avg_RH_Pct</th>\n",
       "      <th>Comp_eff</th>\n",
       "    </tr>\n",
       "  </thead>\n",
       "  <tbody>\n",
       "    <tr>\n",
       "      <th>0</th>\n",
       "      <td>80.70</td>\n",
       "      <td>0.6210</td>\n",
       "      <td>85.700</td>\n",
       "    </tr>\n",
       "    <tr>\n",
       "      <th>1</th>\n",
       "      <td>81.60</td>\n",
       "      <td>0.6280</td>\n",
       "      <td>85.700</td>\n",
       "    </tr>\n",
       "    <tr>\n",
       "      <th>2</th>\n",
       "      <td>78.00</td>\n",
       "      <td>0.6310</td>\n",
       "      <td>85.700</td>\n",
       "    </tr>\n",
       "    <tr>\n",
       "      <th>3</th>\n",
       "      <td>81.00</td>\n",
       "      <td>0.4790</td>\n",
       "      <td>85.540</td>\n",
       "    </tr>\n",
       "    <tr>\n",
       "      <th>4</th>\n",
       "      <td>81.10</td>\n",
       "      <td>0.4830</td>\n",
       "      <td>85.570</td>\n",
       "    </tr>\n",
       "    <tr>\n",
       "      <th>...</th>\n",
       "      <td>...</td>\n",
       "      <td>...</td>\n",
       "      <td>...</td>\n",
       "    </tr>\n",
       "    <tr>\n",
       "      <th>270</th>\n",
       "      <td>60.69</td>\n",
       "      <td>0.6341</td>\n",
       "      <td>84.480</td>\n",
       "    </tr>\n",
       "    <tr>\n",
       "      <th>271</th>\n",
       "      <td>62.30</td>\n",
       "      <td>0.7090</td>\n",
       "      <td>84.230</td>\n",
       "    </tr>\n",
       "    <tr>\n",
       "      <th>272</th>\n",
       "      <td>62.79</td>\n",
       "      <td>0.7565</td>\n",
       "      <td>84.019</td>\n",
       "    </tr>\n",
       "    <tr>\n",
       "      <th>273</th>\n",
       "      <td>55.00</td>\n",
       "      <td>0.8900</td>\n",
       "      <td>84.010</td>\n",
       "    </tr>\n",
       "    <tr>\n",
       "      <th>274</th>\n",
       "      <td>59.00</td>\n",
       "      <td>0.7900</td>\n",
       "      <td>84.180</td>\n",
       "    </tr>\n",
       "  </tbody>\n",
       "</table>\n",
       "<p>251 rows × 3 columns</p>\n",
       "</div>"
      ],
      "text/plain": [
       "     Amb_Temp_F  Avg_RH_Pct Comp_eff\n",
       "0         80.70      0.6210   85.700\n",
       "1         81.60      0.6280   85.700\n",
       "2         78.00      0.6310   85.700\n",
       "3         81.00      0.4790   85.540\n",
       "4         81.10      0.4830   85.570\n",
       "..          ...         ...      ...\n",
       "270       60.69      0.6341   84.480\n",
       "271       62.30      0.7090   84.230\n",
       "272       62.79      0.7565   84.019\n",
       "273       55.00      0.8900   84.010\n",
       "274       59.00      0.7900   84.180\n",
       "\n",
       "[251 rows x 3 columns]"
      ]
     },
     "execution_count": 9,
     "metadata": {},
     "output_type": "execute_result"
    }
   ],
   "source": [
    "df=df.drop(columns=\"Base_hours\")\n",
    "df"
   ]
  },
  {
   "cell_type": "code",
   "execution_count": 10,
   "metadata": {},
   "outputs": [
    {
     "name": "stdout",
     "output_type": "stream",
     "text": [
      "(200, 3) (200,)\n",
      "(51, 3) (51,)\n"
     ]
    }
   ],
   "source": [
    "# create training and testing vars\n",
    "X_train, X_test, y_train, y_test = train_test_split(df, y, test_size=0.2)\n",
    "print(X_train.shape, y_train.shape)\n",
    "print(X_test.shape, y_test.shape)"
   ]
  },
  {
   "cell_type": "code",
   "execution_count": 11,
   "metadata": {},
   "outputs": [],
   "source": [
    "# fit a model\n",
    "lm = linear_model.LinearRegression()\n",
    "model = lm.fit(X_train, y_train)\n",
    "predictions = model.predict(X_test)"
   ]
  },
  {
   "cell_type": "code",
   "execution_count": 12,
   "metadata": {},
   "outputs": [
    {
     "data": {
      "text/plain": [
       "Text(0, 0.5, 'Predictions')"
      ]
     },
     "execution_count": 12,
     "metadata": {},
     "output_type": "execute_result"
    },
    {
     "data": {
      "image/png": "[encoded data removed]",
      "text/plain": [
       "<Figure size 432x288 with 1 Axes>"
      ]
     },
     "metadata": {
      "needs_background": "light"
     },
     "output_type": "display_data"
    }
   ],
   "source": [
    "## The line / model\n",
    "plt.plot(y_test, predictions,'.')\n",
    "plt.xlabel(\"True Values\")\n",
    "plt.ylabel(\"Predictions\")"
   ]
  },
  {
   "cell_type": "code",
   "execution_count": 13,
   "metadata": {},
   "outputs": [],
   "source": [
    "#y_test['predictions'] = predictions\n",
    "#y_test"
   ]
  },
  {
   "cell_type": "code",
   "execution_count": 14,
   "metadata": {},
   "outputs": [
    {
     "name": "stdout",
     "output_type": "stream",
     "text": [
      "115.85204167577224\n"
     ]
    },
    {
     "data": {
      "text/plain": [
       "115.85204167577224"
      ]
     },
     "execution_count": 14,
     "metadata": {},
     "output_type": "execute_result"
    }
   ],
   "source": [
    "# MSE (Mean Squared Error)\n",
    "# sum(y-y')^2 / number of items\n",
    "mse = np.sum((y_test.values-predictions)**2)/y_test.size\n",
    "print(mse)\n",
    "np.average((y_test.values-predictions)**2)"
   ]
  },
  {
   "cell_type": "code",
   "execution_count": 15,
   "metadata": {},
   "outputs": [
    {
     "name": "stdout",
     "output_type": "stream",
     "text": [
      "Weight for Amb_Temp_F -3.739558421082641\n",
      "Weight for Avg_RH_Pct -232.33253527319448\n",
      "Weight for Comp_eff 13.968800243095057\n",
      "\n",
      "Bias: 299.00785840308004\n"
     ]
    }
   ],
   "source": [
    "# Display weights and Bias of above Regression relation\n",
    "for colnum in range(len(df.columns)):\n",
    "    print(\"Weight for\",df[df.columns[colnum]].name, model.coef_[colnum])\n",
    "print()        \n",
    "print(\"Bias:\", model.intercept_)"
   ]
  }
 ],
 "metadata": {
  "kernelspec": {
   "display_name": "Python 3",
   "language": "python",
   "name": "python3"
  },
  "language_info": {
   "codemirror_mode": {
    "name": "ipython",
    "version": 3
   },
   "file_extension": ".py",
   "mimetype": "text/x-python",
   "name": "python",
   "nbconvert_exporter": "python",
   "pygments_lexer": "ipython3",
   "version": "3.8.3"
  }
 },
 "nbformat": 4,
 "nbformat_minor": 4
}
