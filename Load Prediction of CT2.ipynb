{
 "cells": [
  {
   "cell_type": "markdown",
   "metadata": {},
   "source": [
    "# Load prediction of CT2 based on Ambient Conditions\n",
    "### by analysis of ambient condition, deduce the ideal load of the machine using previous data\n",
    "5 year data  \n",
    "convert into single df  \n",
    "part data into 80:20 ratio (80% training data and 20% test data)"
   ]
  },
  {
   "cell_type": "code",
   "execution_count": 1,
   "metadata": {},
   "outputs": [],
   "source": [
    "import numpy as np\n",
    "import pandas as pd\n",
    "from sklearn import datasets, linear_model\n",
    "from sklearn.model_selection import train_test_split\n",
    "from matplotlib import pyplot as plt\n",
    "#from pandas import ExcelWriter\n",
    "#from pandas import ExcelFile\n",
    "features = pd.read_excel('data/Ops Monthly Returns 2016.xls',\n",
    "                   #skiprows = [0,1,3,4],            \n",
    "                   #skipfooter= 48, #Number of rows to skip from bottom\n",
    "                   usecols= \"B:G\", #Column index in Excel format\n",
    "                   sheet_name=0)"
   ]
  },
  {
   "cell_type": "code",
   "execution_count": 2,
   "metadata": {},
   "outputs": [
    {
     "name": "stdout",
     "output_type": "stream",
     "text": [
      "Index(['Amb_Temp_F', 'Avg_RH_Pct', 'Base_hours', 'Gen_MWH', 'Comp_eff',\n",
      "       'lbtu'],\n",
      "      dtype='object')\n"
     ]
    },
    {
     "data": {
      "text/html": [
       "<div>\n",
       "<style scoped>\n",
       "    .dataframe tbody tr th:only-of-type {\n",
       "        vertical-align: middle;\n",
       "    }\n",
       "\n",
       "    .dataframe tbody tr th {\n",
       "        vertical-align: top;\n",
       "    }\n",
       "\n",
       "    .dataframe thead th {\n",
       "        text-align: right;\n",
       "    }\n",
       "</style>\n",
       "<table border=\"1\" class=\"dataframe\">\n",
       "  <thead>\n",
       "    <tr style=\"text-align: right;\">\n",
       "      <th></th>\n",
       "      <th>Amb_Temp_F</th>\n",
       "      <th>Avg_RH_Pct</th>\n",
       "      <th>Base_hours</th>\n",
       "      <th>Gen_MWH</th>\n",
       "      <th>Comp_eff</th>\n",
       "      <th>lbtu</th>\n",
       "    </tr>\n",
       "  </thead>\n",
       "  <tbody>\n",
       "    <tr>\n",
       "      <th>0</th>\n",
       "      <td>80.70</td>\n",
       "      <td>0.6210</td>\n",
       "      <td>24</td>\n",
       "      <td>1064</td>\n",
       "      <td>85.7</td>\n",
       "      <td>3726.33875</td>\n",
       "    </tr>\n",
       "    <tr>\n",
       "      <th>1</th>\n",
       "      <td>81.60</td>\n",
       "      <td>0.6280</td>\n",
       "      <td>24</td>\n",
       "      <td>1057</td>\n",
       "      <td>85.7</td>\n",
       "      <td>3717.33542</td>\n",
       "    </tr>\n",
       "    <tr>\n",
       "      <th>2</th>\n",
       "      <td>78.00</td>\n",
       "      <td>0.6310</td>\n",
       "      <td>24</td>\n",
       "      <td>1072</td>\n",
       "      <td>85.7</td>\n",
       "      <td>3673.16020</td>\n",
       "    </tr>\n",
       "    <tr>\n",
       "      <th>3</th>\n",
       "      <td>81.00</td>\n",
       "      <td>0.4790</td>\n",
       "      <td>24</td>\n",
       "      <td>1086</td>\n",
       "      <td>85.54</td>\n",
       "      <td>3699.77314</td>\n",
       "    </tr>\n",
       "    <tr>\n",
       "      <th>4</th>\n",
       "      <td>81.10</td>\n",
       "      <td>0.4830</td>\n",
       "      <td>24</td>\n",
       "      <td>1087</td>\n",
       "      <td>85.57</td>\n",
       "      <td>3691.26982</td>\n",
       "    </tr>\n",
       "    <tr>\n",
       "      <th>...</th>\n",
       "      <td>...</td>\n",
       "      <td>...</td>\n",
       "      <td>...</td>\n",
       "      <td>...</td>\n",
       "      <td>...</td>\n",
       "      <td>...</td>\n",
       "    </tr>\n",
       "    <tr>\n",
       "      <th>270</th>\n",
       "      <td>60.69</td>\n",
       "      <td>0.6341</td>\n",
       "      <td>24</td>\n",
       "      <td>1095</td>\n",
       "      <td>84.48</td>\n",
       "      <td>2173.76400</td>\n",
       "    </tr>\n",
       "    <tr>\n",
       "      <th>271</th>\n",
       "      <td>62.30</td>\n",
       "      <td>0.7090</td>\n",
       "      <td>24</td>\n",
       "      <td>1073</td>\n",
       "      <td>84.23</td>\n",
       "      <td>2187.78735</td>\n",
       "    </tr>\n",
       "    <tr>\n",
       "      <th>272</th>\n",
       "      <td>62.79</td>\n",
       "      <td>0.7565</td>\n",
       "      <td>24</td>\n",
       "      <td>1056</td>\n",
       "      <td>84.019</td>\n",
       "      <td>2204.02545</td>\n",
       "    </tr>\n",
       "    <tr>\n",
       "      <th>273</th>\n",
       "      <td>55.00</td>\n",
       "      <td>0.8900</td>\n",
       "      <td>24</td>\n",
       "      <td>1077</td>\n",
       "      <td>84.01</td>\n",
       "      <td>2069.59500</td>\n",
       "    </tr>\n",
       "    <tr>\n",
       "      <th>274</th>\n",
       "      <td>59.00</td>\n",
       "      <td>0.7900</td>\n",
       "      <td>24</td>\n",
       "      <td>1070</td>\n",
       "      <td>84.18</td>\n",
       "      <td>2075.97120</td>\n",
       "    </tr>\n",
       "  </tbody>\n",
       "</table>\n",
       "<p>251 rows × 6 columns</p>\n",
       "</div>"
      ],
      "text/plain": [
       "     Amb_Temp_F  Avg_RH_Pct  Base_hours  Gen_MWH Comp_eff        lbtu\n",
       "0         80.70      0.6210          24     1064     85.7  3726.33875\n",
       "1         81.60      0.6280          24     1057     85.7  3717.33542\n",
       "2         78.00      0.6310          24     1072     85.7  3673.16020\n",
       "3         81.00      0.4790          24     1086    85.54  3699.77314\n",
       "4         81.10      0.4830          24     1087    85.57  3691.26982\n",
       "..          ...         ...         ...      ...      ...         ...\n",
       "270       60.69      0.6341          24     1095    84.48  2173.76400\n",
       "271       62.30      0.7090          24     1073    84.23  2187.78735\n",
       "272       62.79      0.7565          24     1056   84.019  2204.02545\n",
       "273       55.00      0.8900          24     1077    84.01  2069.59500\n",
       "274       59.00      0.7900          24     1070    84.18  2075.97120\n",
       "\n",
       "[251 rows x 6 columns]"
      ]
     },
     "execution_count": 2,
     "metadata": {},
     "output_type": "execute_result"
    }
   ],
   "source": [
    "print(features.columns)\n",
    "\n",
    "X=features[features[\"Base_hours\"]==24]\n",
    "X"
   ]
  },
  {
   "cell_type": "code",
   "execution_count": 3,
   "metadata": {},
   "outputs": [
    {
     "data": {
      "text/plain": [
       "0      1064\n",
       "1      1057\n",
       "2      1072\n",
       "3      1086\n",
       "4      1087\n",
       "       ... \n",
       "270    1095\n",
       "271    1073\n",
       "272    1056\n",
       "273    1077\n",
       "274    1070\n",
       "Name: Gen_MWH, Length: 251, dtype: int64"
      ]
     },
     "execution_count": 3,
     "metadata": {},
     "output_type": "execute_result"
    }
   ],
   "source": [
    "Y=X[\"Gen_MWH\"]\n",
    "Y"
   ]
  },
  {
   "cell_type": "code",
   "execution_count": 4,
   "metadata": {},
   "outputs": [
    {
     "data": {
      "text/html": [
       "<div>\n",
       "<style scoped>\n",
       "    .dataframe tbody tr th:only-of-type {\n",
       "        vertical-align: middle;\n",
       "    }\n",
       "\n",
       "    .dataframe tbody tr th {\n",
       "        vertical-align: top;\n",
       "    }\n",
       "\n",
       "    .dataframe thead th {\n",
       "        text-align: right;\n",
       "    }\n",
       "</style>\n",
       "<table border=\"1\" class=\"dataframe\">\n",
       "  <thead>\n",
       "    <tr style=\"text-align: right;\">\n",
       "      <th></th>\n",
       "      <th>Amb_Temp_F</th>\n",
       "      <th>Avg_RH_Pct</th>\n",
       "      <th>Base_hours</th>\n",
       "      <th>Comp_eff</th>\n",
       "      <th>lbtu</th>\n",
       "    </tr>\n",
       "  </thead>\n",
       "  <tbody>\n",
       "    <tr>\n",
       "      <th>0</th>\n",
       "      <td>80.70</td>\n",
       "      <td>0.6210</td>\n",
       "      <td>24</td>\n",
       "      <td>85.7</td>\n",
       "      <td>3726.33875</td>\n",
       "    </tr>\n",
       "    <tr>\n",
       "      <th>1</th>\n",
       "      <td>81.60</td>\n",
       "      <td>0.6280</td>\n",
       "      <td>24</td>\n",
       "      <td>85.7</td>\n",
       "      <td>3717.33542</td>\n",
       "    </tr>\n",
       "    <tr>\n",
       "      <th>2</th>\n",
       "      <td>78.00</td>\n",
       "      <td>0.6310</td>\n",
       "      <td>24</td>\n",
       "      <td>85.7</td>\n",
       "      <td>3673.16020</td>\n",
       "    </tr>\n",
       "    <tr>\n",
       "      <th>3</th>\n",
       "      <td>81.00</td>\n",
       "      <td>0.4790</td>\n",
       "      <td>24</td>\n",
       "      <td>85.54</td>\n",
       "      <td>3699.77314</td>\n",
       "    </tr>\n",
       "    <tr>\n",
       "      <th>4</th>\n",
       "      <td>81.10</td>\n",
       "      <td>0.4830</td>\n",
       "      <td>24</td>\n",
       "      <td>85.57</td>\n",
       "      <td>3691.26982</td>\n",
       "    </tr>\n",
       "    <tr>\n",
       "      <th>...</th>\n",
       "      <td>...</td>\n",
       "      <td>...</td>\n",
       "      <td>...</td>\n",
       "      <td>...</td>\n",
       "      <td>...</td>\n",
       "    </tr>\n",
       "    <tr>\n",
       "      <th>270</th>\n",
       "      <td>60.69</td>\n",
       "      <td>0.6341</td>\n",
       "      <td>24</td>\n",
       "      <td>84.48</td>\n",
       "      <td>2173.76400</td>\n",
       "    </tr>\n",
       "    <tr>\n",
       "      <th>271</th>\n",
       "      <td>62.30</td>\n",
       "      <td>0.7090</td>\n",
       "      <td>24</td>\n",
       "      <td>84.23</td>\n",
       "      <td>2187.78735</td>\n",
       "    </tr>\n",
       "    <tr>\n",
       "      <th>272</th>\n",
       "      <td>62.79</td>\n",
       "      <td>0.7565</td>\n",
       "      <td>24</td>\n",
       "      <td>84.019</td>\n",
       "      <td>2204.02545</td>\n",
       "    </tr>\n",
       "    <tr>\n",
       "      <th>273</th>\n",
       "      <td>55.00</td>\n",
       "      <td>0.8900</td>\n",
       "      <td>24</td>\n",
       "      <td>84.01</td>\n",
       "      <td>2069.59500</td>\n",
       "    </tr>\n",
       "    <tr>\n",
       "      <th>274</th>\n",
       "      <td>59.00</td>\n",
       "      <td>0.7900</td>\n",
       "      <td>24</td>\n",
       "      <td>84.18</td>\n",
       "      <td>2075.97120</td>\n",
       "    </tr>\n",
       "  </tbody>\n",
       "</table>\n",
       "<p>251 rows × 5 columns</p>\n",
       "</div>"
      ],
      "text/plain": [
       "     Amb_Temp_F  Avg_RH_Pct  Base_hours Comp_eff        lbtu\n",
       "0         80.70      0.6210          24     85.7  3726.33875\n",
       "1         81.60      0.6280          24     85.7  3717.33542\n",
       "2         78.00      0.6310          24     85.7  3673.16020\n",
       "3         81.00      0.4790          24    85.54  3699.77314\n",
       "4         81.10      0.4830          24    85.57  3691.26982\n",
       "..          ...         ...         ...      ...         ...\n",
       "270       60.69      0.6341          24    84.48  2173.76400\n",
       "271       62.30      0.7090          24    84.23  2187.78735\n",
       "272       62.79      0.7565          24   84.019  2204.02545\n",
       "273       55.00      0.8900          24    84.01  2069.59500\n",
       "274       59.00      0.7900          24    84.18  2075.97120\n",
       "\n",
       "[251 rows x 5 columns]"
      ]
     },
     "execution_count": 4,
     "metadata": {},
     "output_type": "execute_result"
    }
   ],
   "source": [
    "X=X.drop(columns=[\"Gen_MWH\"])\n",
    "X"
   ]
  },
  {
   "cell_type": "code",
   "execution_count": 5,
   "metadata": {},
   "outputs": [
    {
     "name": "stdout",
     "output_type": "stream",
     "text": [
      "(200, 5) (200,)\n",
      "(51, 5) (51,)\n"
     ]
    }
   ],
   "source": [
    "# create training and testing vars\n",
    "X_train, X_test, Y_train, Y_test = train_test_split(X, Y, test_size=0.2)\n",
    "print(X_train.shape, Y_train.shape)\n",
    "print(X_test.shape, Y_test.shape)"
   ]
  },
  {
   "cell_type": "code",
   "execution_count": 6,
   "metadata": {},
   "outputs": [],
   "source": [
    "# fit a model\n",
    "lm = linear_model.LinearRegression()\n",
    "model = lm.fit(X_train, Y_train)\n",
    "predictions = model.predict(X_test)"
   ]
  },
  {
   "cell_type": "code",
   "execution_count": 7,
   "metadata": {},
   "outputs": [
    {
     "data": {
      "text/plain": [
       "Text(0, 0.5, 'Predictions')"
      ]
     },
     "execution_count": 7,
     "metadata": {},
     "output_type": "execute_result"
    },
    {
     "data": {
      "image/png": "[encoded data removed]",
      "text/plain": [
       "<Figure size 432x288 with 1 Axes>"
      ]
     },
     "metadata": {
      "needs_background": "light"
     },
     "output_type": "display_data"
    }
   ],
   "source": [
    "## The line / model\n",
    "%matplotlib inline\n",
    "plt.plot(Y_test, predictions,'.')\n",
    "plt.xlabel(\"True Values\")\n",
    "plt.ylabel(\"Predictions\")"
   ]
  },
  {
   "cell_type": "code",
   "execution_count": 8,
   "metadata": {},
   "outputs": [
    {
     "data": {
      "text/plain": [
       "array([ 17.05611264,  -2.19735832,  -2.94941094,   3.79345636,\n",
       "         0.33605878,   3.38423068,  -0.68488932,  -3.32132717,\n",
       "         3.88771634,   9.7114175 ,   2.33971802,  28.22152027,\n",
       "         0.15079409,   4.04573864,   1.77465916,  -5.74891831,\n",
       "         1.70997158,  -1.83314871,  -1.98807584,  28.63629487,\n",
       "         3.31917356,  -0.36649126,   3.89933777,   6.12277428,\n",
       "        -7.14043423,  -1.64125294,   2.89079625,   1.47734864,\n",
       "        -6.47076025,   3.15716774,   5.42204416,   1.80010264,\n",
       "         4.57486224,   3.32374189,  14.99568985,  -1.60875447,\n",
       "        -0.16057233,   1.56954726,  -4.7098153 ,  -7.79470943,\n",
       "        -6.92212589,  18.45657777,   3.61981236, -16.46747926,\n",
       "        14.97332808,  -0.16762509,  14.60841881,   2.23033647,\n",
       "        -5.15479115,   5.81861432,   5.99921115])"
      ]
     },
     "execution_count": 8,
     "metadata": {},
     "output_type": "execute_result"
    }
   ],
   "source": [
    "#d=y_test-predictions\n",
    "Y_test.values-predictions"
   ]
  },
  {
   "cell_type": "code",
   "execution_count": 9,
   "metadata": {},
   "outputs": [
    {
     "data": {
      "text/html": [
       "<div>\n",
       "<style scoped>\n",
       "    .dataframe tbody tr th:only-of-type {\n",
       "        vertical-align: middle;\n",
       "    }\n",
       "\n",
       "    .dataframe tbody tr th {\n",
       "        vertical-align: top;\n",
       "    }\n",
       "\n",
       "    .dataframe thead th {\n",
       "        text-align: right;\n",
       "    }\n",
       "</style>\n",
       "<table border=\"1\" class=\"dataframe\">\n",
       "  <thead>\n",
       "    <tr style=\"text-align: right;\">\n",
       "      <th></th>\n",
       "      <th>Amb_Temp_F</th>\n",
       "      <th>Avg_RH_Pct</th>\n",
       "      <th>Comp_eff</th>\n",
       "      <th>lbtu</th>\n",
       "    </tr>\n",
       "  </thead>\n",
       "  <tbody>\n",
       "    <tr>\n",
       "      <th>0</th>\n",
       "      <td>80.70</td>\n",
       "      <td>0.6210</td>\n",
       "      <td>85.7</td>\n",
       "      <td>3726.33875</td>\n",
       "    </tr>\n",
       "    <tr>\n",
       "      <th>1</th>\n",
       "      <td>81.60</td>\n",
       "      <td>0.6280</td>\n",
       "      <td>85.7</td>\n",
       "      <td>3717.33542</td>\n",
       "    </tr>\n",
       "    <tr>\n",
       "      <th>2</th>\n",
       "      <td>78.00</td>\n",
       "      <td>0.6310</td>\n",
       "      <td>85.7</td>\n",
       "      <td>3673.16020</td>\n",
       "    </tr>\n",
       "    <tr>\n",
       "      <th>3</th>\n",
       "      <td>81.00</td>\n",
       "      <td>0.4790</td>\n",
       "      <td>85.54</td>\n",
       "      <td>3699.77314</td>\n",
       "    </tr>\n",
       "    <tr>\n",
       "      <th>4</th>\n",
       "      <td>81.10</td>\n",
       "      <td>0.4830</td>\n",
       "      <td>85.57</td>\n",
       "      <td>3691.26982</td>\n",
       "    </tr>\n",
       "    <tr>\n",
       "      <th>...</th>\n",
       "      <td>...</td>\n",
       "      <td>...</td>\n",
       "      <td>...</td>\n",
       "      <td>...</td>\n",
       "    </tr>\n",
       "    <tr>\n",
       "      <th>270</th>\n",
       "      <td>60.69</td>\n",
       "      <td>0.6341</td>\n",
       "      <td>84.48</td>\n",
       "      <td>2173.76400</td>\n",
       "    </tr>\n",
       "    <tr>\n",
       "      <th>271</th>\n",
       "      <td>62.30</td>\n",
       "      <td>0.7090</td>\n",
       "      <td>84.23</td>\n",
       "      <td>2187.78735</td>\n",
       "    </tr>\n",
       "    <tr>\n",
       "      <th>272</th>\n",
       "      <td>62.79</td>\n",
       "      <td>0.7565</td>\n",
       "      <td>84.019</td>\n",
       "      <td>2204.02545</td>\n",
       "    </tr>\n",
       "    <tr>\n",
       "      <th>273</th>\n",
       "      <td>55.00</td>\n",
       "      <td>0.8900</td>\n",
       "      <td>84.01</td>\n",
       "      <td>2069.59500</td>\n",
       "    </tr>\n",
       "    <tr>\n",
       "      <th>274</th>\n",
       "      <td>59.00</td>\n",
       "      <td>0.7900</td>\n",
       "      <td>84.18</td>\n",
       "      <td>2075.97120</td>\n",
       "    </tr>\n",
       "  </tbody>\n",
       "</table>\n",
       "<p>251 rows × 4 columns</p>\n",
       "</div>"
      ],
      "text/plain": [
       "     Amb_Temp_F  Avg_RH_Pct Comp_eff        lbtu\n",
       "0         80.70      0.6210     85.7  3726.33875\n",
       "1         81.60      0.6280     85.7  3717.33542\n",
       "2         78.00      0.6310     85.7  3673.16020\n",
       "3         81.00      0.4790    85.54  3699.77314\n",
       "4         81.10      0.4830    85.57  3691.26982\n",
       "..          ...         ...      ...         ...\n",
       "270       60.69      0.6341    84.48  2173.76400\n",
       "271       62.30      0.7090    84.23  2187.78735\n",
       "272       62.79      0.7565   84.019  2204.02545\n",
       "273       55.00      0.8900    84.01  2069.59500\n",
       "274       59.00      0.7900    84.18  2075.97120\n",
       "\n",
       "[251 rows x 4 columns]"
      ]
     },
     "execution_count": 9,
     "metadata": {},
     "output_type": "execute_result"
    }
   ],
   "source": [
    "X=X.drop(columns=\"Base_hours\")\n",
    "X"
   ]
  },
  {
   "cell_type": "code",
   "execution_count": 10,
   "metadata": {},
   "outputs": [
    {
     "name": "stdout",
     "output_type": "stream",
     "text": [
      "(200, 4) (200,)\n",
      "(51, 4) (51,)\n"
     ]
    }
   ],
   "source": [
    "# create training and testing vars\n",
    "X_train, X_test, Y_train, Y_test = train_test_split(X, Y, test_size=0.2)\n",
    "print(X_train.shape, Y_train.shape)\n",
    "print(X_test.shape, Y_test.shape)"
   ]
  },
  {
   "cell_type": "code",
   "execution_count": 11,
   "metadata": {},
   "outputs": [],
   "source": [
    "# fit a model\n",
    "lm = linear_model.LinearRegression()\n",
    "model = lm.fit(X_train, Y_train)\n",
    "predictions = model.predict(X_test)"
   ]
  },
  {
   "cell_type": "code",
   "execution_count": 12,
   "metadata": {},
   "outputs": [
    {
     "data": {
      "text/plain": [
       "Text(0, 0.5, 'Predictions')"
      ]
     },
     "execution_count": 12,
     "metadata": {},
     "output_type": "execute_result"
    },
    {
     "data": {
      "image/png": "[encoded data removed]",
      "text/plain": [
       "<Figure size 432x288 with 1 Axes>"
      ]
     },
     "metadata": {
      "needs_background": "light"
     },
     "output_type": "display_data"
    }
   ],
   "source": [
    "## The line / model\n",
    "plt.plot(Y_test, predictions,'.')\n",
    "plt.xlabel(\"True Values\")\n",
    "plt.ylabel(\"Predictions\")"
   ]
  },
  {
   "cell_type": "code",
   "execution_count": 13,
   "metadata": {},
   "outputs": [],
   "source": [
    "#y_test['predictions'] = predictions\n",
    "#y_test"
   ]
  },
  {
   "cell_type": "code",
   "execution_count": 14,
   "metadata": {},
   "outputs": [
    {
     "name": "stdout",
     "output_type": "stream",
     "text": [
      "54.27525046525543\n"
     ]
    },
    {
     "data": {
      "text/plain": [
       "7.367173845190259"
      ]
     },
     "execution_count": 14,
     "metadata": {},
     "output_type": "execute_result"
    }
   ],
   "source": [
    "# MSE (Mean Squared Error)\n",
    "# sum(y-y')^2 / number of items\n",
    "mse = np.sum((Y_test.values-predictions)**2)/Y_test.size\n",
    "print(mse)\n",
    "np.sqrt(np.average((Y_test.values-predictions)**2))"
   ]
  },
  {
   "cell_type": "code",
   "execution_count": 15,
   "metadata": {},
   "outputs": [
    {
     "name": "stdout",
     "output_type": "stream",
     "text": [
      "Weight for Amb_Temp_F -4.25234055793017\n",
      "Weight for Avg_RH_Pct -209.38486951186013\n",
      "Weight for Comp_eff 16.080941963417295\n",
      "Weight for lbtu 0.012483261276770463\n",
      "\n",
      "Bias: 110.87120038022056\n",
      "[-4.25234056e+00 -2.09384870e+02  1.60809420e+01  1.24832613e-02]\n"
     ]
    }
   ],
   "source": [
    "# Display weights and Bias of above Regression relation\n",
    "for colnum in range(len(X.columns)):\n",
    "    print(\"Weight for\",X[X.columns[colnum]].name, model.coef_[colnum])\n",
    "print()        \n",
    "print(\"Bias:\", model.intercept_)\n",
    "print(model.coef_)"
   ]
  },
  {
   "cell_type": "code",
   "execution_count": null,
   "metadata": {},
   "outputs": [],
   "source": []
  }
 ],
 "metadata": {
  "kernelspec": {
   "display_name": "Python 3",
   "language": "python",
   "name": "python3"
  },
  "language_info": {
   "codemirror_mode": {
    "name": "ipython",
    "version": 3
   },
   "file_extension": ".py",
   "mimetype": "text/x-python",
   "name": "python",
   "nbconvert_exporter": "python",
   "pygments_lexer": "ipython3",
   "version": "3.8.2"
  }
 },
 "nbformat": 4,
 "nbformat_minor": 4
}
