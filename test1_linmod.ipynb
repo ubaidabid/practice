{
 "cells": [
  {
   "cell_type": "code",
   "execution_count": 18,
   "metadata": {},
   "outputs": [],
   "source": [
    "import pandas as pd\n",
    "from sklearn import datasets, linear_model\n",
    "from sklearn.model_selection import train_test_split\n",
    "from matplotlib import pyplot as plt"
   ]
  },
  {
   "cell_type": "code",
   "execution_count": 20,
   "metadata": {},
   "outputs": [],
   "source": [
    "# Load the Diabetes dataset\n",
    "columns = \"age sex bmi map tc ldl hdl tch ltg glu\".split() # Declare the columns names\n",
    "diabetes = datasets.load_diabetes() # Call the diabetes dataset from sklearn\n",
    "\n",
    "df = pd.DataFrame(diabetes.data, columns=columns) # load the dataset as a pandas data frame\n",
    "\n",
    "y = diabetes.target # define the target variable (dependent variable) as y"
   ]
  },
  {
   "cell_type": "code",
   "execution_count": 23,
   "metadata": {},
   "outputs": [
    {
     "name": "stdout",
     "output_type": "stream",
     "text": [
      "(442, 10)\n"
     ]
    },
    {
     "data": {
      "text/plain": [
       "(442,)"
      ]
     },
     "execution_count": 23,
     "metadata": {},
     "output_type": "execute_result"
    }
   ],
   "source": [
    "print(diabetes.data.shape)\n",
    "y.shape"
   ]
  },
  {
   "cell_type": "code",
   "execution_count": 25,
   "metadata": {},
   "outputs": [
    {
     "name": "stdout",
     "output_type": "stream",
     "text": [
      "(353, 10) (353,)\n",
      "(89, 10) (89,)\n"
     ]
    }
   ],
   "source": [
    "# create training and testing vars\n",
    "X_train, X_test, y_train, y_test = train_test_split(df, y, test_size=0.2)\n",
    "print(X_train.shape, y_train.shape)\n",
    "print(X_test.shape, y_test.shape)"
   ]
  },
  {
   "cell_type": "code",
   "execution_count": 27,
   "metadata": {},
   "outputs": [],
   "source": [
    "# fit a model\n",
    "lm = linear_model.LinearRegression()\n",
    "model = lm.fit(X_train, y_train)\n",
    "predictions = lm.predict(X_test)"
   ]
  },
  {
   "cell_type": "code",
   "execution_count": 28,
   "metadata": {},
   "outputs": [
    {
     "data": {
      "text/plain": [
       "array([102.33562824, 230.21669308, 234.48089888, 170.96822456,\n",
       "       205.73246674])"
      ]
     },
     "execution_count": 28,
     "metadata": {},
     "output_type": "execute_result"
    }
   ],
   "source": [
    "predictions[0:5]"
   ]
  },
  {
   "cell_type": "code",
   "execution_count": 30,
   "metadata": {},
   "outputs": [
    {
     "data": {
      "text/plain": [
       "Text(0, 0.5, 'Predictions')"
      ]
     },
     "execution_count": 30,
     "metadata": {},
     "output_type": "execute_result"
    },
    {
     "data": {
      "image/png": "[encoded data removed]",
      "text/plain": [
       "<Figure size 432x288 with 1 Axes>"
      ]
     },
     "metadata": {
      "needs_background": "light"
     },
     "output_type": "display_data"
    }
   ],
   "source": [
    "## The line / model\n",
    "plt.scatter(y_test, predictions)\n",
    "plt.xlabel(\"True Values\")\n",
    "plt.ylabel(\"Predictions\")"
   ]
  },
  {
   "cell_type": "code",
   "execution_count": 40,
   "metadata": {},
   "outputs": [
    {
     "data": {
      "text/plain": [
       "array([[[ 63.        , 102.33562824],\n",
       "        [270.        , 230.21669308],\n",
       "        [272.        , 234.48089888],\n",
       "        [196.        , 170.96822456],\n",
       "        [288.        , 205.73246674],\n",
       "        [196.        , 160.62187585],\n",
       "        [128.        ,  72.75086519],\n",
       "        [100.        , 156.8556367 ],\n",
       "        [131.        , 194.76899241],\n",
       "        [ 51.        ,  79.62111633],\n",
       "        [ 93.        , 140.03054458],\n",
       "        [242.        , 274.82829196],\n",
       "        [132.        , 248.5725489 ],\n",
       "        [281.        , 233.2582421 ],\n",
       "        [ 97.        , 145.75286908],\n",
       "        [210.        , 149.69823704],\n",
       "        [102.        , 107.98623388],\n",
       "        [310.        , 208.08764211],\n",
       "        [341.        , 252.09511596],\n",
       "        [232.        , 225.42056265],\n",
       "        [265.        , 200.28542689],\n",
       "        [ 40.        , 133.3588879 ],\n",
       "        [185.        , 163.1984682 ],\n",
       "        [137.        ,  92.92028039],\n",
       "        [104.        ,  49.29243537],\n",
       "        [ 72.        ,  80.11177055],\n",
       "        [ 71.        ,  84.28774853],\n",
       "        [102.        , 120.28932558],\n",
       "        [258.        , 227.53818563],\n",
       "        [ 45.        ,  36.99802802],\n",
       "        [ 31.        , 102.55322985],\n",
       "        [ 63.        , 125.05414766],\n",
       "        [303.        , 260.17154145],\n",
       "        [265.        , 202.95935674],\n",
       "        [262.        , 180.83874204],\n",
       "        [283.        , 184.43496321],\n",
       "        [ 58.        , 160.70720648],\n",
       "        [ 94.        , 158.29844696],\n",
       "        [ 72.        , 111.40711841],\n",
       "        [264.        , 240.6387131 ],\n",
       "        [ 80.        ,  87.41172557],\n",
       "        [ 49.        ,  86.19289062],\n",
       "        [ 77.        ,  61.56208273],\n",
       "        [ 65.        , 125.91627044],\n",
       "        [ 69.        , 117.69182816],\n",
       "        [138.        , 171.73505202],\n",
       "        [ 37.        ,  78.90102558],\n",
       "        [154.        , 157.33709731],\n",
       "        [ 96.        ,  89.14133504],\n",
       "        [202.        , 145.04804911],\n",
       "        [131.        , 170.03595971],\n",
       "        [122.        , 171.53658348],\n",
       "        [265.        , 163.28579352],\n",
       "        [261.        , 230.70791289],\n",
       "        [109.        , 165.02328831],\n",
       "        [ 53.        , 102.22300983],\n",
       "        [162.        , 123.97529567],\n",
       "        [116.        , 145.24512966],\n",
       "        [200.        , 151.60232434],\n",
       "        [104.        , 154.58083147],\n",
       "        [ 47.        ,  54.99657195],\n",
       "        [163.        , 211.8556647 ],\n",
       "        [ 65.        ,  82.18328584],\n",
       "        [219.        , 138.5547582 ],\n",
       "        [136.        , 152.02169001],\n",
       "        [ 48.        ,  53.38626895],\n",
       "        [173.        , 218.34061573],\n",
       "        [129.        , 111.26376649],\n",
       "        [ 85.        , 177.18183234],\n",
       "        [274.        , 235.82438013],\n",
       "        [155.        , 158.26343953],\n",
       "        [308.        , 253.85238681],\n",
       "        [242.        , 252.52072528],\n",
       "        [142.        , 183.78178403],\n",
       "        [ 90.        , 144.91742034],\n",
       "        [200.        , 175.79132137],\n",
       "        [146.        , 142.54803169],\n",
       "        [246.        , 149.41568245],\n",
       "        [ 79.        , 114.94660724],\n",
       "        [258.        , 163.64540375],\n",
       "        [206.        , 161.56651362],\n",
       "        [144.        , 158.50838375],\n",
       "        [156.        , 159.23646223],\n",
       "        [292.        , 193.29155771],\n",
       "        [143.        , 174.81180539],\n",
       "        [ 55.        ,  48.04324178],\n",
       "        [216.        , 164.38118416],\n",
       "        [225.        , 169.37002456],\n",
       "        [ 88.        , 142.51648833]]])"
      ]
     },
     "execution_count": 40,
     "metadata": {},
     "output_type": "execute_result"
    }
   ],
   "source": [
    "np.dstack((y_test,predictions))"
   ]
  }
 ],
 "metadata": {
  "kernelspec": {
   "display_name": "Python 3",
   "language": "python",
   "name": "python3"
  },
  "language_info": {
   "codemirror_mode": {
    "name": "ipython",
    "version": 3
   },
   "file_extension": ".py",
   "mimetype": "text/x-python",
   "name": "python",
   "nbconvert_exporter": "python",
   "pygments_lexer": "ipython3",
   "version": "3.8.3"
  }
 },
 "nbformat": 4,
 "nbformat_minor": 4
}
