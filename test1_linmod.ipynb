{
 "cells": [
  {
   "cell_type": "code",
   "execution_count": 1,
   "metadata": {},
   "outputs": [],
   "source": [
    "import numpy as np\n",
    "import pandas as pd\n",
    "from sklearn import datasets, linear_model\n",
    "from sklearn.model_selection import train_test_split\n",
    "from matplotlib import pyplot as plt"
   ]
  },
  {
   "cell_type": "code",
   "execution_count": 2,
   "metadata": {},
   "outputs": [],
   "source": [
    "# Load the Diabetes dataset\n",
    "columns = \"age sex bmi map tc ldl hdl tch ltg glu\".split() # Declare the columns names\n",
    "diabetes = datasets.load_diabetes() # Call the diabetes dataset from sklearn\n",
    "\n",
    "df = pd.DataFrame(diabetes.data, columns=columns) # load the dataset as a pandas data frame\n",
    "\n",
    "y = diabetes.target # define the target variable (dependent variable) as y"
   ]
  },
  {
   "cell_type": "code",
   "execution_count": 12,
   "metadata": {},
   "outputs": [
    {
     "name": "stdout",
     "output_type": "stream",
     "text": [
      "[151.  75. 141. 206. 135.  97. 138.  63. 110. 310. 101.  69. 179. 185.\n",
      " 118. 171. 166. 144.  97. 168.  68.  49.  68. 245. 184. 202. 137.  85.\n",
      " 131. 283. 129.  59. 341.  87.  65. 102. 265. 276. 252.  90. 100.  55.\n",
      "  61.  92. 259.  53. 190. 142.  75. 142. 155. 225.  59. 104. 182. 128.\n",
      "  52.  37. 170. 170.  61. 144.  52. 128.  71. 163. 150.  97. 160. 178.\n",
      "  48. 270. 202. 111.  85.  42. 170. 200. 252. 113. 143.  51.  52. 210.\n",
      "  65. 141.  55. 134.  42. 111.  98. 164.  48.  96.  90. 162. 150. 279.\n",
      "  92.  83. 128. 102. 302. 198.  95.  53. 134. 144. 232.  81. 104.  59.\n",
      " 246. 297. 258. 229. 275. 281. 179. 200. 200. 173. 180.  84. 121. 161.\n",
      "  99. 109. 115. 268. 274. 158. 107.  83. 103. 272.  85. 280. 336. 281.\n",
      " 118. 317. 235.  60. 174. 259. 178. 128.  96. 126. 288.  88. 292.  71.\n",
      " 197. 186.  25.  84.  96. 195.  53. 217. 172. 131. 214.  59.  70. 220.\n",
      " 268. 152.  47.  74. 295. 101. 151. 127. 237. 225.  81. 151. 107.  64.\n",
      " 138. 185. 265. 101. 137. 143. 141.  79. 292. 178.  91. 116.  86. 122.\n",
      "  72. 129. 142.  90. 158.  39. 196. 222. 277.  99. 196. 202. 155.  77.\n",
      " 191.  70.  73.  49.  65. 263. 248. 296. 214. 185.  78.  93. 252. 150.\n",
      "  77. 208.  77. 108. 160.  53. 220. 154. 259.  90. 246. 124.  67.  72.\n",
      " 257. 262. 275. 177.  71.  47. 187. 125.  78.  51. 258. 215. 303. 243.\n",
      "  91. 150. 310. 153. 346.  63.  89.  50.  39. 103. 308. 116. 145.  74.\n",
      "  45. 115. 264.  87. 202. 127. 182. 241.  66.  94. 283.  64. 102. 200.\n",
      " 265.  94. 230. 181. 156. 233.  60. 219.  80.  68. 332. 248.  84. 200.\n",
      "  55.  85.  89.  31. 129.  83. 275.  65. 198. 236. 253. 124.  44. 172.\n",
      " 114. 142. 109. 180. 144. 163. 147.  97. 220. 190. 109. 191. 122. 230.\n",
      " 242. 248. 249. 192. 131. 237.  78. 135. 244. 199. 270. 164.  72.  96.\n",
      " 306.  91. 214.  95. 216. 263. 178. 113. 200. 139. 139.  88. 148.  88.\n",
      " 243.  71.  77. 109. 272.  60.  54. 221.  90. 311. 281. 182. 321.  58.\n",
      " 262. 206. 233. 242. 123. 167.  63. 197.  71. 168. 140. 217. 121. 235.\n",
      " 245.  40.  52. 104. 132.  88.  69. 219.  72. 201. 110.  51. 277.  63.\n",
      " 118.  69. 273. 258.  43. 198. 242. 232. 175.  93. 168. 275. 293. 281.\n",
      "  72. 140. 189. 181. 209. 136. 261. 113. 131. 174. 257.  55.  84.  42.\n",
      " 146. 212. 233.  91. 111. 152. 120.  67. 310.  94. 183.  66. 173.  72.\n",
      "  49.  64.  48. 178. 104. 132. 220.  57.]\n",
      "(442, 10)\n"
     ]
    },
    {
     "data": {
      "text/plain": [
       "(442,)"
      ]
     },
     "execution_count": 12,
     "metadata": {},
     "output_type": "execute_result"
    }
   ],
   "source": [
    "#print(diabetes)\n",
    "print(y)\n",
    "print(diabetes.data.shape)\n",
    "y.shape"
   ]
  },
  {
   "cell_type": "code",
   "execution_count": 4,
   "metadata": {},
   "outputs": [
    {
     "name": "stdout",
     "output_type": "stream",
     "text": [
      "(353, 10) (353,)\n",
      "(89, 10) (89,)\n"
     ]
    }
   ],
   "source": [
    "# create training and testing vars\n",
    "X_train, X_test, y_train, y_test = train_test_split(df, y, test_size=0.2)\n",
    "print(X_train.shape, y_train.shape)\n",
    "print(X_test.shape, y_test.shape)"
   ]
  },
  {
   "cell_type": "code",
   "execution_count": 13,
   "metadata": {},
   "outputs": [],
   "source": [
    "# fit a model\n",
    "lm = linear_model.LinearRegression()\n",
    "model = lm.fit(X_train, y_train)\n",
    "predictions = model.predict(X_test)"
   ]
  },
  {
   "cell_type": "code",
   "execution_count": 15,
   "metadata": {},
   "outputs": [
    {
     "data": {
      "text/plain": [
       "array([248.51744021, 119.42176615, 141.29032956,  56.28941886,\n",
       "       247.62827236, 243.66947296, 171.77450134, 103.89734238,\n",
       "        98.67304258, 169.21186327, 142.07214176, 196.60204111,\n",
       "        93.97021318, 175.83509552, 153.92738751, 223.98010229,\n",
       "        97.20337841, 188.4398322 , 155.38209793, 109.26042029,\n",
       "       259.59126496, 137.84971244, 198.36966069, 160.58016546,\n",
       "       196.06261436, 206.53710246,  79.49590827, 189.6954278 ,\n",
       "       194.05125275, 109.13797624, 246.5416189 , 157.8692908 ,\n",
       "       130.76178324, 172.76273626, 173.25397083, 186.15816565,\n",
       "       144.49060214, 228.63241439,  87.5522912 , 156.26059534,\n",
       "        54.36923732, 215.56163749, 194.16043364, 118.04370842,\n",
       "       157.71939755,  97.29655806, 217.32406373, 177.00979275,\n",
       "       236.84352294, 176.70479585, 162.5494253 ,  58.63895723,\n",
       "       119.38994605,  92.2098706 , 193.10347979, 280.30718558,\n",
       "        84.19366267,  73.6626224 , 193.88289545,  92.8687011 ,\n",
       "        99.31851652, 171.49723293, 136.73481126, 229.71874213,\n",
       "        79.56603948,  44.86394484, 229.12832055, 100.81362861,\n",
       "       164.01494465, 249.99373266,  87.62630942,  65.78926096,\n",
       "       122.6001584 , 120.17548682, 127.98241297, 205.49600213,\n",
       "       148.15621649,  65.11251831, 106.11044453, 203.58772992,\n",
       "       116.82376714,  93.96292528, 158.86803713, 260.62289442,\n",
       "       132.66553932, 148.28734032, 141.34903636, 157.99370721,\n",
       "       158.64600346])"
      ]
     },
     "execution_count": 15,
     "metadata": {},
     "output_type": "execute_result"
    }
   ],
   "source": [
    "predictions"
   ]
  },
  {
   "cell_type": "code",
   "execution_count": 7,
   "metadata": {},
   "outputs": [
    {
     "data": {
      "text/plain": [
       "Text(0, 0.5, 'Predictions')"
      ]
     },
     "execution_count": 7,
     "metadata": {},
     "output_type": "execute_result"
    },
    {
     "data": {
      "image/png": "[encoded data removed]",
      "text/plain": [
       "<Figure size 432x288 with 1 Axes>"
      ]
     },
     "metadata": {
      "needs_background": "light"
     },
     "output_type": "display_data"
    }
   ],
   "source": [
    "## The line / model\n",
    "plt.scatter(y_test, predictions)\n",
    "plt.xlabel(\"True Values\")\n",
    "plt.ylabel(\"Predictions\")"
   ]
  },
  {
   "cell_type": "code",
   "execution_count": 8,
   "metadata": {},
   "outputs": [
    {
     "data": {
      "text/plain": [
       "array([[[336.        , 248.51744021],\n",
       "        [145.        , 119.42176615],\n",
       "        [182.        , 141.29032956],\n",
       "        [ 48.        ,  56.28941886],\n",
       "        [132.        , 247.62827236],\n",
       "        [252.        , 243.66947296],\n",
       "        [235.        , 171.77450134],\n",
       "        [125.        , 103.89734238],\n",
       "        [ 31.        ,  98.67304258],\n",
       "        [109.        , 169.21186327],\n",
       "        [ 59.        , 142.07214176],\n",
       "        [212.        , 196.60204111],\n",
       "        [ 96.        ,  93.97021318],\n",
       "        [151.        , 175.83509552],\n",
       "        [ 55.        , 153.92738751],\n",
       "        [257.        , 223.98010229],\n",
       "        [108.        ,  97.20337841],\n",
       "        [ 84.        , 188.4398322 ],\n",
       "        [200.        , 155.38209793],\n",
       "        [104.        , 109.26042029],\n",
       "        [273.        , 259.59126496],\n",
       "        [162.        , 137.84971244],\n",
       "        [142.        , 198.36966069],\n",
       "        [ 86.        , 160.58016546],\n",
       "        [293.        , 196.06261436],\n",
       "        [150.        , 206.53710246],\n",
       "        [ 92.        ,  79.49590827],\n",
       "        [167.        , 189.6954278 ],\n",
       "        [197.        , 194.05125275],\n",
       "        [ 88.        , 109.13797624],\n",
       "        [272.        , 246.5416189 ],\n",
       "        [104.        , 157.8692908 ],\n",
       "        [178.        , 130.76178324],\n",
       "        [179.        , 172.76273626],\n",
       "        [140.        , 173.25397083],\n",
       "        [139.        , 186.15816565],\n",
       "        [230.        , 144.49060214],\n",
       "        [261.        , 228.63241439],\n",
       "        [ 96.        ,  87.5522912 ],\n",
       "        [150.        , 156.26059534],\n",
       "        [ 39.        ,  54.36923732],\n",
       "        [ 52.        , 215.56163749],\n",
       "        [241.        , 194.16043364],\n",
       "        [ 89.        , 118.04370842],\n",
       "        [ 85.        , 157.71939755],\n",
       "        [ 65.        ,  97.29655806],\n",
       "        [268.        , 217.32406373],\n",
       "        [217.        , 177.00979275],\n",
       "        [195.        , 236.84352294],\n",
       "        [111.        , 176.70479585],\n",
       "        [129.        , 162.5494253 ],\n",
       "        [ 52.        ,  58.63895723],\n",
       "        [127.        , 119.38994605],\n",
       "        [201.        ,  92.2098706 ],\n",
       "        [191.        , 193.10347979],\n",
       "        [243.        , 280.30718558],\n",
       "        [ 77.        ,  84.19366267],\n",
       "        [138.        ,  73.6626224 ],\n",
       "        [ 67.        , 193.88289545],\n",
       "        [ 74.        ,  92.8687011 ],\n",
       "        [ 81.        ,  99.31851652],\n",
       "        [ 58.        , 171.49723293],\n",
       "        [ 74.        , 136.73481126],\n",
       "        [232.        , 229.71874213],\n",
       "        [ 65.        ,  79.56603948],\n",
       "        [ 78.        ,  44.86394484],\n",
       "        [321.        , 229.12832055],\n",
       "        [101.        , 100.81362861],\n",
       "        [154.        , 164.01494465],\n",
       "        [245.        , 249.99373266],\n",
       "        [ 93.        ,  87.62630942],\n",
       "        [ 72.        ,  65.78926096],\n",
       "        [ 83.        , 122.6001584 ],\n",
       "        [178.        , 120.17548682],\n",
       "        [ 51.        , 127.98241297],\n",
       "        [189.        , 205.49600213],\n",
       "        [ 25.        , 148.15621649],\n",
       "        [ 52.        ,  65.11251831],\n",
       "        [ 72.        , 106.11044453],\n",
       "        [122.        , 203.58772992],\n",
       "        [ 68.        , 116.82376714],\n",
       "        [ 51.        ,  93.96292528],\n",
       "        [144.        , 158.86803713],\n",
       "        [303.        , 260.62289442],\n",
       "        [ 42.        , 132.66553932],\n",
       "        [ 83.        , 148.28734032],\n",
       "        [142.        , 141.34903636],\n",
       "        [156.        , 157.99370721],\n",
       "        [141.        , 158.64600346]]])"
      ]
     },
     "execution_count": 8,
     "metadata": {},
     "output_type": "execute_result"
    }
   ],
   "source": [
    "np.dstack((y_test,predictions))"
   ]
  }
 ],
 "metadata": {
  "kernelspec": {
   "display_name": "Python 3",
   "language": "python",
   "name": "python3"
  },
  "language_info": {
   "codemirror_mode": {
    "name": "ipython",
    "version": 3
   },
   "file_extension": ".py",
   "mimetype": "text/x-python",
   "name": "python",
   "nbconvert_exporter": "python",
   "pygments_lexer": "ipython3",
   "version": "3.8.2"
  }
 },
 "nbformat": 4,
 "nbformat_minor": 4
}
