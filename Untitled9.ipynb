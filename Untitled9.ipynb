{
 "cells": [
  {
   "cell_type": "markdown",
   "metadata": {},
   "source": [
    "# Student Grading System"
   ]
  },
  {
   "cell_type": "code",
   "execution_count": 1,
   "metadata": {},
   "outputs": [],
   "source": [
    "import numpy as np"
   ]
  },
  {
   "cell_type": "code",
   "execution_count": 2,
   "metadata": {},
   "outputs": [
    {
     "data": {
      "text/plain": [
       "array([[ 1, 10, 15, 18, 20,  0],\n",
       "       [ 2, 11, 13, 19, 18,  0],\n",
       "       [ 3,  9, 20, 15,  3,  0],\n",
       "       [ 4,  3,  4,  5,  6,  0],\n",
       "       [ 5, 18, 18, 17, 16,  0]], dtype=int16)"
      ]
     },
     "execution_count": 2,
     "metadata": {},
     "output_type": "execute_result"
    }
   ],
   "source": [
    "# Roll no, Q1, Q2, Q3, Q4, AVG\n",
    "# dt=np.dtype('i1,i1,i2,i2,i2,f4')\n",
    "a=np.array([1,10,15,18,20,0,2,11,13,19,18,0,3,9,20,15,3,0,4,3,4,5,6,0,5,18,18,17,16,0],dtype=np.int16).reshape(5,6)\n",
    "# a.dtype=dt\n",
    "a"
   ]
  },
  {
   "cell_type": "code",
   "execution_count": 3,
   "metadata": {},
   "outputs": [
    {
     "data": {
      "text/plain": [
       "dtype('int16')"
      ]
     },
     "execution_count": 3,
     "metadata": {},
     "output_type": "execute_result"
    }
   ],
   "source": [
    "dt=np.dtype('i1,i1,i2,i2,i2,f4')\n",
    "a.dtype"
   ]
  },
  {
   "cell_type": "code",
   "execution_count": 4,
   "metadata": {},
   "outputs": [
    {
     "data": {
      "text/plain": [
       "array([[ 1, 10, 15, 18, 20,  0],\n",
       "       [ 2, 11, 13, 19, 18,  0],\n",
       "       [ 3,  9, 20, 15,  3,  0],\n",
       "       [ 4,  3,  4,  5,  6,  0],\n",
       "       [ 5, 18, 18, 17, 16,  0]], dtype=int16)"
      ]
     },
     "execution_count": 4,
     "metadata": {},
     "output_type": "execute_result"
    }
   ],
   "source": [
    "#a.dtype=dt\n",
    "a"
   ]
  },
  {
   "cell_type": "code",
   "execution_count": 5,
   "metadata": {},
   "outputs": [
    {
     "data": {
      "text/plain": [
       "array([[ 1, 10, 15, 18, 20, 15],\n",
       "       [ 2, 11, 13, 19, 18, 15],\n",
       "       [ 3,  9, 20, 15,  3, 11],\n",
       "       [ 4,  3,  4,  5,  6,  4],\n",
       "       [ 5, 18, 18, 17, 16, 17]], dtype=int16)"
      ]
     },
     "execution_count": 5,
     "metadata": {},
     "output_type": "execute_result"
    }
   ],
   "source": [
    "a[:,5]=np.average(a[:,1:5],axis=1)\n",
    "a"
   ]
  },
  {
   "cell_type": "code",
   "execution_count": 6,
   "metadata": {},
   "outputs": [
    {
     "data": {
      "text/plain": [
       "array([[ 1, 10, 15, 18, 20, 15],\n",
       "       [ 2, 11, 13, 19, 18, 15],\n",
       "       [ 3,  9, 20, 15,  3, 11],\n",
       "       [ 4,  3,  4,  5,  6,  4],\n",
       "       [ 5, 18, 18, 17, 16, 17]], dtype=int16)"
      ]
     },
     "execution_count": 6,
     "metadata": {},
     "output_type": "execute_result"
    }
   ],
   "source": [
    "a"
   ]
  },
  {
   "cell_type": "code",
   "execution_count": 7,
   "metadata": {},
   "outputs": [
    {
     "data": {
      "text/plain": [
       "array([[ 1, 10, 15, 18, 20],\n",
       "       [ 2, 11, 13, 19, 18],\n",
       "       [ 3,  9, 20, 15,  3],\n",
       "       [ 4,  3,  4,  5,  6],\n",
       "       [ 5, 18, 18, 17, 16]], dtype=int16)"
      ]
     },
     "execution_count": 7,
     "metadata": {},
     "output_type": "execute_result"
    }
   ],
   "source": [
    "b=a[:,:5]\n",
    "b"
   ]
  },
  {
   "cell_type": "code",
   "execution_count": 8,
   "metadata": {},
   "outputs": [
    {
     "data": {
      "text/plain": [
       "array([[0.],\n",
       "       [0.],\n",
       "       [0.],\n",
       "       [0.],\n",
       "       [0.]], dtype=float32)"
      ]
     },
     "execution_count": 8,
     "metadata": {},
     "output_type": "execute_result"
    }
   ],
   "source": [
    "c=np.zeros((5,1),dtype=\"f\")\n",
    "c"
   ]
  },
  {
   "cell_type": "code",
   "execution_count": 9,
   "metadata": {},
   "outputs": [
    {
     "data": {
      "text/plain": [
       "array([15.75, 15.25, 11.75,  4.5 , 17.25])"
      ]
     },
     "execution_count": 9,
     "metadata": {},
     "output_type": "execute_result"
    }
   ],
   "source": [
    "c=np.average(a[:,1:5],axis=1)\n",
    "c"
   ]
  },
  {
   "cell_type": "code",
   "execution_count": 10,
   "metadata": {},
   "outputs": [
    {
     "data": {
      "text/plain": [
       "array([15.75, 15.25, 11.75,  4.5 , 17.25])"
      ]
     },
     "execution_count": 10,
     "metadata": {},
     "output_type": "execute_result"
    }
   ],
   "source": [
    "c.T"
   ]
  },
  {
   "cell_type": "code",
   "execution_count": 11,
   "metadata": {},
   "outputs": [
    {
     "data": {
      "text/plain": [
       "array([[15.75],\n",
       "       [15.25],\n",
       "       [11.75],\n",
       "       [ 4.5 ],\n",
       "       [17.25]])"
      ]
     },
     "execution_count": 11,
     "metadata": {},
     "output_type": "execute_result"
    }
   ],
   "source": [
    "c=c.reshape(5,1)\n",
    "c"
   ]
  },
  {
   "cell_type": "code",
   "execution_count": null,
   "metadata": {},
   "outputs": [],
   "source": []
  },
  {
   "cell_type": "code",
   "execution_count": 12,
   "metadata": {},
   "outputs": [
    {
     "data": {
      "text/plain": [
       "array([[ 1.  , 10.  , 15.  , 18.  , 20.  , 15.75],\n",
       "       [ 2.  , 11.  , 13.  , 19.  , 18.  , 15.25],\n",
       "       [ 3.  ,  9.  , 20.  , 15.  ,  3.  , 11.75],\n",
       "       [ 4.  ,  3.  ,  4.  ,  5.  ,  6.  ,  4.5 ],\n",
       "       [ 5.  , 18.  , 18.  , 17.  , 16.  , 17.25]])"
      ]
     },
     "execution_count": 12,
     "metadata": {},
     "output_type": "execute_result"
    }
   ],
   "source": [
    "ans=np.hstack((b,c))\n",
    "ans"
   ]
  },
  {
   "cell_type": "code",
   "execution_count": 13,
   "metadata": {},
   "outputs": [],
   "source": [
    "# dt=np.dtype([('ans0',np.int64),('ans1',np.int64),('ans2',np.int64),('ans3',np.int64),('ans4',np.float32)])\n",
    "# ans.dtype=dt"
   ]
  },
  {
   "cell_type": "code",
   "execution_count": 14,
   "metadata": {},
   "outputs": [],
   "source": [
    "# dt=np.dtype({'names':('RNO','Q1','Q2','Q3','Q4','AVG'),'formats':('i4','i2','i2','i2','i2','f4')})"
   ]
  },
  {
   "cell_type": "code",
   "execution_count": 15,
   "metadata": {},
   "outputs": [],
   "source": [
    "# dt"
   ]
  },
  {
   "cell_type": "code",
   "execution_count": 16,
   "metadata": {},
   "outputs": [
    {
     "data": {
      "text/plain": [
       "array([[ 1.  , 10.  , 15.  , 18.  , 20.  , 15.75],\n",
       "       [ 2.  , 11.  , 13.  , 19.  , 18.  , 15.25],\n",
       "       [ 3.  ,  9.  , 20.  , 15.  ,  3.  , 11.75],\n",
       "       [ 4.  ,  3.  ,  4.  ,  5.  ,  6.  ,  4.5 ],\n",
       "       [ 5.  , 18.  , 18.  , 17.  , 16.  , 17.25]])"
      ]
     },
     "execution_count": 16,
     "metadata": {},
     "output_type": "execute_result"
    }
   ],
   "source": [
    "# ans.dtype=dt\n",
    "ans"
   ]
  },
  {
   "cell_type": "code",
   "execution_count": 17,
   "metadata": {},
   "outputs": [],
   "source": [
    "# ans.dtype"
   ]
  },
  {
   "cell_type": "code",
   "execution_count": 18,
   "metadata": {},
   "outputs": [
    {
     "data": {
      "text/plain": [
       "array([[ 1.  , 10.  , 15.  , 18.  , 20.  , 15.75],\n",
       "       [ 2.  , 11.  , 13.  , 19.  , 18.  , 15.25],\n",
       "       [ 3.  ,  9.  , 20.  , 15.  ,  3.  , 11.75],\n",
       "       [ 4.  ,  3.  ,  4.  ,  5.  ,  6.  ,  4.5 ],\n",
       "       [ 5.  , 18.  , 18.  , 17.  , 16.  , 17.25]])"
      ]
     },
     "execution_count": 18,
     "metadata": {},
     "output_type": "execute_result"
    }
   ],
   "source": [
    "ans=np.hstack((b,c))\n",
    "ans"
   ]
  },
  {
   "cell_type": "code",
   "execution_count": 19,
   "metadata": {},
   "outputs": [
    {
     "data": {
      "text/plain": [
       "array([[ 1, 10, 15, 18, 20, 15],\n",
       "       [ 2, 11, 13, 19, 18, 15],\n",
       "       [ 3,  9, 20, 15,  3, 11],\n",
       "       [ 4,  3,  4,  5,  6,  4],\n",
       "       [ 5, 18, 18, 17, 16, 17]], dtype=int16)"
      ]
     },
     "execution_count": 19,
     "metadata": {},
     "output_type": "execute_result"
    }
   ],
   "source": [
    "a"
   ]
  },
  {
   "cell_type": "code",
   "execution_count": 21,
   "metadata": {},
   "outputs": [
    {
     "data": {
      "text/plain": [
       "12.9"
      ]
     },
     "execution_count": 21,
     "metadata": {},
     "output_type": "execute_result"
    }
   ],
   "source": [
    "np.average(ans[:,1:5]) # average of all quarters of all students"
   ]
  },
  {
   "cell_type": "code",
   "execution_count": 22,
   "metadata": {},
   "outputs": [
    {
     "data": {
      "text/plain": [
       "20.0"
      ]
     },
     "execution_count": 22,
     "metadata": {},
     "output_type": "execute_result"
    }
   ],
   "source": [
    "np.max(ans[:,1:5])"
   ]
  },
  {
   "cell_type": "code",
   "execution_count": 23,
   "metadata": {},
   "outputs": [],
   "source": [
    "rng=ans[:,1:5]"
   ]
  },
  {
   "cell_type": "code",
   "execution_count": 24,
   "metadata": {},
   "outputs": [
    {
     "data": {
      "text/plain": [
       "array([[10., 15., 18., 20.],\n",
       "       [11., 13., 19., 18.],\n",
       "       [ 9., 20., 15.,  3.],\n",
       "       [ 3.,  4.,  5.,  6.],\n",
       "       [18., 18., 17., 16.]])"
      ]
     },
     "execution_count": 24,
     "metadata": {},
     "output_type": "execute_result"
    }
   ],
   "source": [
    "rng"
   ]
  },
  {
   "cell_type": "code",
   "execution_count": 25,
   "metadata": {},
   "outputs": [
    {
     "data": {
      "text/plain": [
       "20.0"
      ]
     },
     "execution_count": 25,
     "metadata": {},
     "output_type": "execute_result"
    }
   ],
   "source": [
    "np.max(rng)"
   ]
  },
  {
   "cell_type": "code",
   "execution_count": 26,
   "metadata": {},
   "outputs": [
    {
     "data": {
      "text/plain": [
       "12.9"
      ]
     },
     "execution_count": 26,
     "metadata": {},
     "output_type": "execute_result"
    }
   ],
   "source": [
    "np.average(rng)"
   ]
  },
  {
   "cell_type": "code",
   "execution_count": 27,
   "metadata": {},
   "outputs": [
    {
     "data": {
      "text/plain": [
       "3.0"
      ]
     },
     "execution_count": 27,
     "metadata": {},
     "output_type": "execute_result"
    }
   ],
   "source": [
    "np.min(rng)"
   ]
  },
  {
   "cell_type": "code",
   "execution_count": 28,
   "metadata": {},
   "outputs": [
    {
     "data": {
      "text/plain": [
       "<function numpy.amax(a, axis=None, out=None, keepdims=<no value>, initial=<no value>, where=<no value>)>"
      ]
     },
     "execution_count": 28,
     "metadata": {},
     "output_type": "execute_result"
    }
   ],
   "source": [
    "np.max"
   ]
  },
  {
   "cell_type": "code",
   "execution_count": 30,
   "metadata": {},
   "outputs": [
    {
     "data": {
      "text/plain": [
       "3.0"
      ]
     },
     "execution_count": 30,
     "metadata": {},
     "output_type": "execute_result"
    }
   ],
   "source": [
    "np.min(rng[:,0])"
   ]
  },
  {
   "cell_type": "code",
   "execution_count": 31,
   "metadata": {},
   "outputs": [
    {
     "data": {
      "text/plain": [
       "array([[0.],\n",
       "       [0.],\n",
       "       [0.],\n",
       "       [0.],\n",
       "       [0.]])"
      ]
     },
     "execution_count": 31,
     "metadata": {},
     "output_type": "execute_result"
    }
   ],
   "source": [
    "mi=np.zeros(5).reshape(5,1)\n",
    "mi"
   ]
  },
  {
   "cell_type": "code",
   "execution_count": 39,
   "metadata": {},
   "outputs": [
    {
     "data": {
      "text/plain": [
       "array([[10.],\n",
       "       [11.],\n",
       "       [ 3.],\n",
       "       [ 3.],\n",
       "       [16.]])"
      ]
     },
     "execution_count": 39,
     "metadata": {},
     "output_type": "execute_result"
    }
   ],
   "source": [
    "mi=np.min(rng,axis=1).reshape(5,1)\n",
    "mi"
   ]
  },
  {
   "cell_type": "code",
   "execution_count": 41,
   "metadata": {},
   "outputs": [
    {
     "data": {
      "text/plain": [
       "array([3., 4., 5., 3.])"
      ]
     },
     "execution_count": 41,
     "metadata": {},
     "output_type": "execute_result"
    }
   ],
   "source": [
    "mi=np.min(rng,axis=0)\n",
    "mi"
   ]
  },
  {
   "cell_type": "code",
   "execution_count": 43,
   "metadata": {},
   "outputs": [
    {
     "data": {
      "text/plain": [
       "array([[ 1., 10., 15., 18., 20.],\n",
       "       [ 2., 11., 13., 19., 18.],\n",
       "       [ 3.,  9., 20., 15.,  3.],\n",
       "       [ 4.,  3.,  4.,  5.,  6.],\n",
       "       [ 5., 18., 18., 17., 16.]])"
      ]
     },
     "execution_count": 43,
     "metadata": {},
     "output_type": "execute_result"
    }
   ],
   "source": [
    "data=np.loadtxt(\"ABC.txt\",delimiter=\",\")\n",
    "data"
   ]
  },
  {
   "cell_type": "code",
   "execution_count": 63,
   "metadata": {},
   "outputs": [
    {
     "data": {
      "text/plain": [
       "array([[ 1., 10., 15., 18., 20.],\n",
       "       [ 2., 11., 13., 19., 18.],\n",
       "       [ 3.,  9., 20., 15.,  3.],\n",
       "       [ 4.,  3.,  4.,  5.,  6.],\n",
       "       [ 5., 18., 18., 17., 16.]])"
      ]
     },
     "execution_count": 63,
     "metadata": {},
     "output_type": "execute_result"
    }
   ],
   "source": [
    "data2=np.genfromtxt(\"1\\ABC.txt\",delimiter=\",\")\n",
    "data2"
   ]
  },
  {
   "cell_type": "code",
   "execution_count": 48,
   "metadata": {},
   "outputs": [
    {
     "data": {
      "text/plain": [
       "(array([0, 2], dtype=int64), array([2, 3], dtype=int64))"
      ]
     },
     "execution_count": 48,
     "metadata": {},
     "output_type": "execute_result"
    }
   ],
   "source": [
    "itemindex = np.where(data==15)\n",
    "itemindex"
   ]
  },
  {
   "cell_type": "code",
   "execution_count": 61,
   "metadata": {},
   "outputs": [
    {
     "name": "stdout",
     "output_type": "stream",
     "text": [
      "[[10 11 12]\n",
      " [13 14 15]]\n",
      "[1 1 1]\n"
     ]
    },
    {
     "data": {
      "text/plain": [
       "array([[13, 14, 15]])"
      ]
     },
     "execution_count": 61,
     "metadata": {},
     "output_type": "execute_result"
    }
   ],
   "source": [
    "a = np.arange(6).reshape(2,3) + 10\n",
    "a\n",
    "\n",
    "\n",
    "# d= np.argmax(a)\n",
    "print(a)\n",
    "d=np.argmax(a, axis=0)\n",
    "print(d)\n",
    "a[[1]]\n",
    "# np.argmax(a, axis=1)"
   ]
  }
 ],
 "metadata": {
  "kernelspec": {
   "display_name": "Python 3",
   "language": "python",
   "name": "python3"
  },
  "language_info": {
   "codemirror_mode": {
    "name": "ipython",
    "version": 3
   },
   "file_extension": ".py",
   "mimetype": "text/x-python",
   "name": "python",
   "nbconvert_exporter": "python",
   "pygments_lexer": "ipython3",
   "version": "3.8.2"
  }
 },
 "nbformat": 4,
 "nbformat_minor": 4
}
