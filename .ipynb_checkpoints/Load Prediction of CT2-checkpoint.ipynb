{
 "cells": [
  {
   "cell_type": "markdown",
   "metadata": {},
   "source": [
    "# Load prediction of CT1 based on Ambient Conditions\n",
    "### by analysis of ambient condition, deduce the ideal load of the machine using previous data\n",
    "5 year data  \n",
    "convert into single df  \n",
    "part data into 80:20 ratio (80% training data and 20% test data)"
   ]
  },
  {
   "cell_type": "code",
   "execution_count": 1,
   "metadata": {},
   "outputs": [],
   "source": [
    "import numpy as np\n",
    "import pandas as pd\n",
    "from sklearn import datasets, linear_model\n",
    "from sklearn.model_selection import train_test_split\n",
    "from matplotlib import pyplot as plt\n",
    "#from pandas import ExcelWriter\n",
    "#from pandas import ExcelFile\n",
    "df = pd.read_excel('data/Ops Monthly Returns 2016.xls',\n",
    "                   #skiprows = [0,1,3,4],            \n",
    "                   #skipfooter= 48, #Number of rows to skip from bottom\n",
    "                   usecols= \"B:F\", #Column index in Excel format\n",
    "                   sheet_name=0)"
   ]
  },
  {
   "cell_type": "code",
   "execution_count": 2,
   "metadata": {},
   "outputs": [
    {
     "name": "stdout",
     "output_type": "stream",
     "text": [
      "Index(['Amb_Temp_F', 'Avg_RH_Pct', 'Base_hours', 'Gen_MWH', 'Comp_eff'], dtype='object')\n"
     ]
    },
    {
     "data": {
      "text/html": [
       "<div>\n",
       "<style scoped>\n",
       "    .dataframe tbody tr th:only-of-type {\n",
       "        vertical-align: middle;\n",
       "    }\n",
       "\n",
       "    .dataframe tbody tr th {\n",
       "        vertical-align: top;\n",
       "    }\n",
       "\n",
       "    .dataframe thead th {\n",
       "        text-align: right;\n",
       "    }\n",
       "</style>\n",
       "<table border=\"1\" class=\"dataframe\">\n",
       "  <thead>\n",
       "    <tr style=\"text-align: right;\">\n",
       "      <th></th>\n",
       "      <th>Amb_Temp_F</th>\n",
       "      <th>Avg_RH_Pct</th>\n",
       "      <th>Base_hours</th>\n",
       "      <th>Gen_MWH</th>\n",
       "      <th>Comp_eff</th>\n",
       "    </tr>\n",
       "  </thead>\n",
       "  <tbody>\n",
       "    <tr>\n",
       "      <th>0</th>\n",
       "      <td>80.70</td>\n",
       "      <td>0.6210</td>\n",
       "      <td>24</td>\n",
       "      <td>1064</td>\n",
       "      <td>85.7</td>\n",
       "    </tr>\n",
       "    <tr>\n",
       "      <th>1</th>\n",
       "      <td>81.60</td>\n",
       "      <td>0.6280</td>\n",
       "      <td>24</td>\n",
       "      <td>1057</td>\n",
       "      <td>85.7</td>\n",
       "    </tr>\n",
       "    <tr>\n",
       "      <th>2</th>\n",
       "      <td>78.00</td>\n",
       "      <td>0.6310</td>\n",
       "      <td>24</td>\n",
       "      <td>1072</td>\n",
       "      <td>85.7</td>\n",
       "    </tr>\n",
       "    <tr>\n",
       "      <th>3</th>\n",
       "      <td>81.00</td>\n",
       "      <td>0.4790</td>\n",
       "      <td>24</td>\n",
       "      <td>1086</td>\n",
       "      <td>85.54</td>\n",
       "    </tr>\n",
       "    <tr>\n",
       "      <th>4</th>\n",
       "      <td>81.10</td>\n",
       "      <td>0.4830</td>\n",
       "      <td>24</td>\n",
       "      <td>1087</td>\n",
       "      <td>85.57</td>\n",
       "    </tr>\n",
       "    <tr>\n",
       "      <th>...</th>\n",
       "      <td>...</td>\n",
       "      <td>...</td>\n",
       "      <td>...</td>\n",
       "      <td>...</td>\n",
       "      <td>...</td>\n",
       "    </tr>\n",
       "    <tr>\n",
       "      <th>270</th>\n",
       "      <td>60.69</td>\n",
       "      <td>0.6341</td>\n",
       "      <td>24</td>\n",
       "      <td>1095</td>\n",
       "      <td>84.48</td>\n",
       "    </tr>\n",
       "    <tr>\n",
       "      <th>271</th>\n",
       "      <td>62.30</td>\n",
       "      <td>0.7090</td>\n",
       "      <td>24</td>\n",
       "      <td>1073</td>\n",
       "      <td>84.23</td>\n",
       "    </tr>\n",
       "    <tr>\n",
       "      <th>272</th>\n",
       "      <td>62.79</td>\n",
       "      <td>0.7565</td>\n",
       "      <td>24</td>\n",
       "      <td>1056</td>\n",
       "      <td>84.019</td>\n",
       "    </tr>\n",
       "    <tr>\n",
       "      <th>273</th>\n",
       "      <td>55.00</td>\n",
       "      <td>0.8900</td>\n",
       "      <td>24</td>\n",
       "      <td>1077</td>\n",
       "      <td>84.01</td>\n",
       "    </tr>\n",
       "    <tr>\n",
       "      <th>274</th>\n",
       "      <td>59.00</td>\n",
       "      <td>0.7900</td>\n",
       "      <td>24</td>\n",
       "      <td>1070</td>\n",
       "      <td>84.18</td>\n",
       "    </tr>\n",
       "  </tbody>\n",
       "</table>\n",
       "<p>251 rows × 5 columns</p>\n",
       "</div>"
      ],
      "text/plain": [
       "     Amb_Temp_F  Avg_RH_Pct  Base_hours  Gen_MWH Comp_eff\n",
       "0         80.70      0.6210          24     1064     85.7\n",
       "1         81.60      0.6280          24     1057     85.7\n",
       "2         78.00      0.6310          24     1072     85.7\n",
       "3         81.00      0.4790          24     1086    85.54\n",
       "4         81.10      0.4830          24     1087    85.57\n",
       "..          ...         ...         ...      ...      ...\n",
       "270       60.69      0.6341          24     1095    84.48\n",
       "271       62.30      0.7090          24     1073    84.23\n",
       "272       62.79      0.7565          24     1056   84.019\n",
       "273       55.00      0.8900          24     1077    84.01\n",
       "274       59.00      0.7900          24     1070    84.18\n",
       "\n",
       "[251 rows x 5 columns]"
      ]
     },
     "execution_count": 2,
     "metadata": {},
     "output_type": "execute_result"
    }
   ],
   "source": [
    "print(df.columns)\n",
    "\n",
    "df=df[df[\"Base_hours\"]==24]\n",
    "df"
   ]
  },
  {
   "cell_type": "code",
   "execution_count": 3,
   "metadata": {},
   "outputs": [
    {
     "data": {
      "text/plain": [
       "0      1064\n",
       "1      1057\n",
       "2      1072\n",
       "3      1086\n",
       "4      1087\n",
       "       ... \n",
       "270    1095\n",
       "271    1073\n",
       "272    1056\n",
       "273    1077\n",
       "274    1070\n",
       "Name: Gen_MWH, Length: 251, dtype: int64"
      ]
     },
     "execution_count": 3,
     "metadata": {},
     "output_type": "execute_result"
    }
   ],
   "source": [
    "y=df[\"Gen_MWH\"]\n",
    "y"
   ]
  },
  {
   "cell_type": "code",
   "execution_count": 4,
   "metadata": {},
   "outputs": [
    {
     "data": {
      "text/html": [
       "<div>\n",
       "<style scoped>\n",
       "    .dataframe tbody tr th:only-of-type {\n",
       "        vertical-align: middle;\n",
       "    }\n",
       "\n",
       "    .dataframe tbody tr th {\n",
       "        vertical-align: top;\n",
       "    }\n",
       "\n",
       "    .dataframe thead th {\n",
       "        text-align: right;\n",
       "    }\n",
       "</style>\n",
       "<table border=\"1\" class=\"dataframe\">\n",
       "  <thead>\n",
       "    <tr style=\"text-align: right;\">\n",
       "      <th></th>\n",
       "      <th>Amb_Temp_F</th>\n",
       "      <th>Avg_RH_Pct</th>\n",
       "      <th>Base_hours</th>\n",
       "      <th>Comp_eff</th>\n",
       "    </tr>\n",
       "  </thead>\n",
       "  <tbody>\n",
       "    <tr>\n",
       "      <th>0</th>\n",
       "      <td>80.70</td>\n",
       "      <td>0.6210</td>\n",
       "      <td>24</td>\n",
       "      <td>85.7</td>\n",
       "    </tr>\n",
       "    <tr>\n",
       "      <th>1</th>\n",
       "      <td>81.60</td>\n",
       "      <td>0.6280</td>\n",
       "      <td>24</td>\n",
       "      <td>85.7</td>\n",
       "    </tr>\n",
       "    <tr>\n",
       "      <th>2</th>\n",
       "      <td>78.00</td>\n",
       "      <td>0.6310</td>\n",
       "      <td>24</td>\n",
       "      <td>85.7</td>\n",
       "    </tr>\n",
       "    <tr>\n",
       "      <th>3</th>\n",
       "      <td>81.00</td>\n",
       "      <td>0.4790</td>\n",
       "      <td>24</td>\n",
       "      <td>85.54</td>\n",
       "    </tr>\n",
       "    <tr>\n",
       "      <th>4</th>\n",
       "      <td>81.10</td>\n",
       "      <td>0.4830</td>\n",
       "      <td>24</td>\n",
       "      <td>85.57</td>\n",
       "    </tr>\n",
       "    <tr>\n",
       "      <th>...</th>\n",
       "      <td>...</td>\n",
       "      <td>...</td>\n",
       "      <td>...</td>\n",
       "      <td>...</td>\n",
       "    </tr>\n",
       "    <tr>\n",
       "      <th>270</th>\n",
       "      <td>60.69</td>\n",
       "      <td>0.6341</td>\n",
       "      <td>24</td>\n",
       "      <td>84.48</td>\n",
       "    </tr>\n",
       "    <tr>\n",
       "      <th>271</th>\n",
       "      <td>62.30</td>\n",
       "      <td>0.7090</td>\n",
       "      <td>24</td>\n",
       "      <td>84.23</td>\n",
       "    </tr>\n",
       "    <tr>\n",
       "      <th>272</th>\n",
       "      <td>62.79</td>\n",
       "      <td>0.7565</td>\n",
       "      <td>24</td>\n",
       "      <td>84.019</td>\n",
       "    </tr>\n",
       "    <tr>\n",
       "      <th>273</th>\n",
       "      <td>55.00</td>\n",
       "      <td>0.8900</td>\n",
       "      <td>24</td>\n",
       "      <td>84.01</td>\n",
       "    </tr>\n",
       "    <tr>\n",
       "      <th>274</th>\n",
       "      <td>59.00</td>\n",
       "      <td>0.7900</td>\n",
       "      <td>24</td>\n",
       "      <td>84.18</td>\n",
       "    </tr>\n",
       "  </tbody>\n",
       "</table>\n",
       "<p>251 rows × 4 columns</p>\n",
       "</div>"
      ],
      "text/plain": [
       "     Amb_Temp_F  Avg_RH_Pct  Base_hours Comp_eff\n",
       "0         80.70      0.6210          24     85.7\n",
       "1         81.60      0.6280          24     85.7\n",
       "2         78.00      0.6310          24     85.7\n",
       "3         81.00      0.4790          24    85.54\n",
       "4         81.10      0.4830          24    85.57\n",
       "..          ...         ...         ...      ...\n",
       "270       60.69      0.6341          24    84.48\n",
       "271       62.30      0.7090          24    84.23\n",
       "272       62.79      0.7565          24   84.019\n",
       "273       55.00      0.8900          24    84.01\n",
       "274       59.00      0.7900          24    84.18\n",
       "\n",
       "[251 rows x 4 columns]"
      ]
     },
     "execution_count": 4,
     "metadata": {},
     "output_type": "execute_result"
    }
   ],
   "source": [
    "df=df.drop(columns=\"Gen_MWH\")\n",
    "df"
   ]
  },
  {
   "cell_type": "code",
   "execution_count": 5,
   "metadata": {},
   "outputs": [
    {
     "name": "stdout",
     "output_type": "stream",
     "text": [
      "(200, 4) (200,)\n",
      "(51, 4) (51,)\n"
     ]
    }
   ],
   "source": [
    "# create training and testing vars\n",
    "X_train, X_test, y_train, y_test = train_test_split(df, y, test_size=0.2)\n",
    "print(X_train.shape, y_train.shape)\n",
    "print(X_test.shape, y_test.shape)"
   ]
  },
  {
   "cell_type": "code",
   "execution_count": 6,
   "metadata": {},
   "outputs": [],
   "source": [
    "# fit a model\n",
    "lm = linear_model.LinearRegression()\n",
    "model = lm.fit(X_train, y_train)\n",
    "predictions = model.predict(X_test)"
   ]
  },
  {
   "cell_type": "code",
   "execution_count": 7,
   "metadata": {},
   "outputs": [
    {
     "data": {
      "text/plain": [
       "Text(0, 0.5, 'Predictions')"
      ]
     },
     "execution_count": 7,
     "metadata": {},
     "output_type": "execute_result"
    },
    {
     "data": {
      "image/png": "[encoded data removed]",
      "text/plain": [
       "<Figure size 432x288 with 1 Axes>"
      ]
     },
     "metadata": {
      "needs_background": "light"
     },
     "output_type": "display_data"
    }
   ],
   "source": [
    "## The line / model\n",
    "plt.scatter(y_test, predictions)\n",
    "plt.xlabel(\"True Values\")\n",
    "plt.ylabel(\"Predictions\")"
   ]
  },
  {
   "cell_type": "code",
   "execution_count": 8,
   "metadata": {},
   "outputs": [
    {
     "data": {
      "text/plain": [
       "array([-12.8885709 ,  -0.49073393,  -4.7883108 ,   4.46912869,\n",
       "         1.23908389,  -0.98883383,   1.47309259,  -0.41863155,\n",
       "        11.95814026,   7.03358486,   7.61765031, -14.93510184,\n",
       "        -0.15174856, -10.17615153,   1.16372397,  14.85795343,\n",
       "        -8.32430622,  -3.09196004,   4.09946183,  -5.61243687,\n",
       "         4.76838387,   2.45637277,   0.46063717,   1.70978471,\n",
       "        -2.22250115,  -1.71002335,  -2.21271945,   5.88081445,\n",
       "        -2.11750127, -12.04630242,  -8.5320226 ,   6.32484753,\n",
       "        13.85456074,  -1.48389497,   0.04837174,  10.48505488,\n",
       "        -6.02570484,   7.62193101,  -3.87096232,   8.99495431,\n",
       "       -10.378903  ,   1.41829198,  -0.31837967,   6.2336885 ,\n",
       "        -4.46055608,  -5.33797267, -11.55724409,  -5.85785217,\n",
       "         0.33157025,  23.39674661,   4.61699262])"
      ]
     },
     "execution_count": 8,
     "metadata": {},
     "output_type": "execute_result"
    }
   ],
   "source": [
    "#d=y_test-predictions\n",
    "y_test.values-predictions"
   ]
  },
  {
   "cell_type": "code",
   "execution_count": 9,
   "metadata": {},
   "outputs": [
    {
     "data": {
      "text/html": [
       "<div>\n",
       "<style scoped>\n",
       "    .dataframe tbody tr th:only-of-type {\n",
       "        vertical-align: middle;\n",
       "    }\n",
       "\n",
       "    .dataframe tbody tr th {\n",
       "        vertical-align: top;\n",
       "    }\n",
       "\n",
       "    .dataframe thead th {\n",
       "        text-align: right;\n",
       "    }\n",
       "</style>\n",
       "<table border=\"1\" class=\"dataframe\">\n",
       "  <thead>\n",
       "    <tr style=\"text-align: right;\">\n",
       "      <th></th>\n",
       "      <th>Amb_Temp_F</th>\n",
       "      <th>Avg_RH_Pct</th>\n",
       "      <th>Comp_eff</th>\n",
       "    </tr>\n",
       "  </thead>\n",
       "  <tbody>\n",
       "    <tr>\n",
       "      <th>0</th>\n",
       "      <td>80.70</td>\n",
       "      <td>0.6210</td>\n",
       "      <td>85.7</td>\n",
       "    </tr>\n",
       "    <tr>\n",
       "      <th>1</th>\n",
       "      <td>81.60</td>\n",
       "      <td>0.6280</td>\n",
       "      <td>85.7</td>\n",
       "    </tr>\n",
       "    <tr>\n",
       "      <th>2</th>\n",
       "      <td>78.00</td>\n",
       "      <td>0.6310</td>\n",
       "      <td>85.7</td>\n",
       "    </tr>\n",
       "    <tr>\n",
       "      <th>3</th>\n",
       "      <td>81.00</td>\n",
       "      <td>0.4790</td>\n",
       "      <td>85.54</td>\n",
       "    </tr>\n",
       "    <tr>\n",
       "      <th>4</th>\n",
       "      <td>81.10</td>\n",
       "      <td>0.4830</td>\n",
       "      <td>85.57</td>\n",
       "    </tr>\n",
       "    <tr>\n",
       "      <th>...</th>\n",
       "      <td>...</td>\n",
       "      <td>...</td>\n",
       "      <td>...</td>\n",
       "    </tr>\n",
       "    <tr>\n",
       "      <th>270</th>\n",
       "      <td>60.69</td>\n",
       "      <td>0.6341</td>\n",
       "      <td>84.48</td>\n",
       "    </tr>\n",
       "    <tr>\n",
       "      <th>271</th>\n",
       "      <td>62.30</td>\n",
       "      <td>0.7090</td>\n",
       "      <td>84.23</td>\n",
       "    </tr>\n",
       "    <tr>\n",
       "      <th>272</th>\n",
       "      <td>62.79</td>\n",
       "      <td>0.7565</td>\n",
       "      <td>84.019</td>\n",
       "    </tr>\n",
       "    <tr>\n",
       "      <th>273</th>\n",
       "      <td>55.00</td>\n",
       "      <td>0.8900</td>\n",
       "      <td>84.01</td>\n",
       "    </tr>\n",
       "    <tr>\n",
       "      <th>274</th>\n",
       "      <td>59.00</td>\n",
       "      <td>0.7900</td>\n",
       "      <td>84.18</td>\n",
       "    </tr>\n",
       "  </tbody>\n",
       "</table>\n",
       "<p>251 rows × 3 columns</p>\n",
       "</div>"
      ],
      "text/plain": [
       "     Amb_Temp_F  Avg_RH_Pct Comp_eff\n",
       "0         80.70      0.6210     85.7\n",
       "1         81.60      0.6280     85.7\n",
       "2         78.00      0.6310     85.7\n",
       "3         81.00      0.4790    85.54\n",
       "4         81.10      0.4830    85.57\n",
       "..          ...         ...      ...\n",
       "270       60.69      0.6341    84.48\n",
       "271       62.30      0.7090    84.23\n",
       "272       62.79      0.7565   84.019\n",
       "273       55.00      0.8900    84.01\n",
       "274       59.00      0.7900    84.18\n",
       "\n",
       "[251 rows x 3 columns]"
      ]
     },
     "execution_count": 9,
     "metadata": {},
     "output_type": "execute_result"
    }
   ],
   "source": [
    "df=df.drop(columns=\"Base_hours\")\n",
    "df"
   ]
  },
  {
   "cell_type": "code",
   "execution_count": 10,
   "metadata": {},
   "outputs": [
    {
     "name": "stdout",
     "output_type": "stream",
     "text": [
      "(200, 3) (200,)\n",
      "(51, 3) (51,)\n"
     ]
    }
   ],
   "source": [
    "# create training and testing vars\n",
    "X_train, X_test, y_train, y_test = train_test_split(df, y, test_size=0.2)\n",
    "print(X_train.shape, y_train.shape)\n",
    "print(X_test.shape, y_test.shape)"
   ]
  },
  {
   "cell_type": "code",
   "execution_count": 11,
   "metadata": {},
   "outputs": [],
   "source": [
    "# fit a model\n",
    "lm = linear_model.LinearRegression()\n",
    "model = lm.fit(X_train, y_train)\n",
    "predictions = model.predict(X_test)"
   ]
  },
  {
   "cell_type": "code",
   "execution_count": 12,
   "metadata": {},
   "outputs": [
    {
     "data": {
      "text/plain": [
       "Text(0, 0.5, 'Predictions')"
      ]
     },
     "execution_count": 12,
     "metadata": {},
     "output_type": "execute_result"
    },
    {
     "data": {
      "image/png": "[encoded data removed]",
      "text/plain": [
       "<Figure size 432x288 with 1 Axes>"
      ]
     },
     "metadata": {
      "needs_background": "light"
     },
     "output_type": "display_data"
    }
   ],
   "source": [
    "## The line / model\n",
    "plt.scatter(y_test, predictions)\n",
    "plt.xlabel(\"True Values\")\n",
    "plt.ylabel(\"Predictions\")"
   ]
  },
  {
   "cell_type": "code",
   "execution_count": 13,
   "metadata": {},
   "outputs": [
    {
     "data": {
      "text/plain": [
       "array([[[1041, 1040,    1],\n",
       "        [1027, 1019,    8],\n",
       "        [1039, 1041,   -2],\n",
       "        [1009, 1012,   -3],\n",
       "        [1084, 1117,  -33],\n",
       "        [1030, 1020,   10],\n",
       "        [1025, 1015,   10],\n",
       "        [1030, 1019,   11],\n",
       "        [1086, 1080,    6],\n",
       "        [1011, 1016,   -5],\n",
       "        [1010, 1007,    3],\n",
       "        [1015, 1017,   -2],\n",
       "        [1084, 1096,  -12],\n",
       "        [1095, 1105,  -10],\n",
       "        [ 973, 1009,  -36],\n",
       "        [1022, 1014,    8],\n",
       "        [1095, 1110,  -15],\n",
       "        [1085, 1090,   -5],\n",
       "        [1008, 1004,    4],\n",
       "        [1004, 1004,    0],\n",
       "        [1027, 1027,    0],\n",
       "        [1010, 1017,   -7],\n",
       "        [1115, 1116,   -1],\n",
       "        [1046, 1046,    0],\n",
       "        [1016, 1026,  -10],\n",
       "        [1116, 1112,    4],\n",
       "        [1022, 1026,   -4],\n",
       "        [1018, 1020,   -2],\n",
       "        [1064, 1050,   14],\n",
       "        [1063, 1060,    3],\n",
       "        [1082, 1077,    5],\n",
       "        [1055, 1050,    5],\n",
       "        [1022, 1025,   -3],\n",
       "        [1040, 1033,    7],\n",
       "        [1027, 1017,   10],\n",
       "        [1062, 1064,   -2],\n",
       "        [1060, 1065,   -5],\n",
       "        [1024, 1020,    4],\n",
       "        [1035, 1041,   -6],\n",
       "        [1028, 1021,    7],\n",
       "        [1089, 1076,   13],\n",
       "        [1033, 1018,   15],\n",
       "        [1072, 1079,   -7],\n",
       "        [1098, 1113,  -15],\n",
       "        [1072, 1059,   13],\n",
       "        [1078, 1090,  -12],\n",
       "        [1016, 1025,   -9],\n",
       "        [1020, 1019,    1],\n",
       "        [1016, 1017,   -1],\n",
       "        [1083, 1092,   -9],\n",
       "        [1084, 1069,   15]]], dtype=int64)"
      ]
     },
     "execution_count": 13,
     "metadata": {},
     "output_type": "execute_result"
    }
   ],
   "source": [
    "type(predictions)\n",
    "predictions=predictions.astype(int)\n",
    "np.dstack((y_test.values,predictions,(y_test.values-predictions)))"
   ]
  },
  {
   "cell_type": "code",
   "execution_count": 14,
   "metadata": {},
   "outputs": [
    {
     "data": {
      "text/plain": [
       "-0.7647058823529411"
      ]
     },
     "execution_count": 14,
     "metadata": {},
     "output_type": "execute_result"
    }
   ],
   "source": [
    "np.average((y_test.values-predictions))"
   ]
  }
 ],
 "metadata": {
  "kernelspec": {
   "display_name": "Python 3",
   "language": "python",
   "name": "python3"
  },
  "language_info": {
   "codemirror_mode": {
    "name": "ipython",
    "version": 3
   },
   "file_extension": ".py",
   "mimetype": "text/x-python",
   "name": "python",
   "nbconvert_exporter": "python",
   "pygments_lexer": "ipython3",
   "version": "3.8.2"
  }
 },
 "nbformat": 4,
 "nbformat_minor": 4
}
