{
 "cells": [
  {
   "cell_type": "markdown",
   "metadata": {},
   "source": [
    "# Load prediction of CT1 based on Ambient Conditions\n",
    "### by analysis of ambient condition, deduce the ideal load of the machine using previous data\n",
    "5 year data  \n",
    "convert into single df  \n",
    "part data into 80:20 ratio (80% training data and 20% test data)"
   ]
  },
  {
   "cell_type": "code",
   "execution_count": 1,
   "metadata": {},
   "outputs": [],
   "source": [
    "import numpy as np\n",
    "import pandas as pd\n",
    "from sklearn import datasets, linear_model\n",
    "from sklearn.model_selection import train_test_split\n",
    "from matplotlib import pyplot as plt\n",
    "#from pandas import ExcelWriter\n",
    "#from pandas import ExcelFile\n",
    "df = pd.read_excel('data/Ops Monthly Returns 2016.xls',\n",
    "                   #skiprows = [0,1,3,4],            \n",
    "                   #skipfooter= 48, #Number of rows to skip from bottom\n",
    "                   usecols= \"B:F\", #Column index in Excel format\n",
    "                   sheet_name=0)"
   ]
  },
  {
   "cell_type": "code",
   "execution_count": 2,
   "metadata": {},
   "outputs": [
    {
     "name": "stdout",
     "output_type": "stream",
     "text": [
      "Index(['Amb_Temp_F', 'Avg_RH_Pct', 'Base_hours', 'Gen_MWH', 'Comp_eff'], dtype='object')\n"
     ]
    },
    {
     "data": {
      "text/html": [
       "<div>\n",
       "<style scoped>\n",
       "    .dataframe tbody tr th:only-of-type {\n",
       "        vertical-align: middle;\n",
       "    }\n",
       "\n",
       "    .dataframe tbody tr th {\n",
       "        vertical-align: top;\n",
       "    }\n",
       "\n",
       "    .dataframe thead th {\n",
       "        text-align: right;\n",
       "    }\n",
       "</style>\n",
       "<table border=\"1\" class=\"dataframe\">\n",
       "  <thead>\n",
       "    <tr style=\"text-align: right;\">\n",
       "      <th></th>\n",
       "      <th>Amb_Temp_F</th>\n",
       "      <th>Avg_RH_Pct</th>\n",
       "      <th>Base_hours</th>\n",
       "      <th>Gen_MWH</th>\n",
       "      <th>Comp_eff</th>\n",
       "    </tr>\n",
       "  </thead>\n",
       "  <tbody>\n",
       "    <tr>\n",
       "      <th>0</th>\n",
       "      <td>80.70</td>\n",
       "      <td>0.6210</td>\n",
       "      <td>24</td>\n",
       "      <td>1064</td>\n",
       "      <td>85.700</td>\n",
       "    </tr>\n",
       "    <tr>\n",
       "      <th>1</th>\n",
       "      <td>81.60</td>\n",
       "      <td>0.6280</td>\n",
       "      <td>24</td>\n",
       "      <td>1057</td>\n",
       "      <td>85.700</td>\n",
       "    </tr>\n",
       "    <tr>\n",
       "      <th>2</th>\n",
       "      <td>78.00</td>\n",
       "      <td>0.6310</td>\n",
       "      <td>24</td>\n",
       "      <td>1072</td>\n",
       "      <td>85.700</td>\n",
       "    </tr>\n",
       "    <tr>\n",
       "      <th>3</th>\n",
       "      <td>81.00</td>\n",
       "      <td>0.4790</td>\n",
       "      <td>24</td>\n",
       "      <td>1086</td>\n",
       "      <td>85.540</td>\n",
       "    </tr>\n",
       "    <tr>\n",
       "      <th>4</th>\n",
       "      <td>81.10</td>\n",
       "      <td>0.4830</td>\n",
       "      <td>24</td>\n",
       "      <td>1087</td>\n",
       "      <td>85.570</td>\n",
       "    </tr>\n",
       "    <tr>\n",
       "      <th>...</th>\n",
       "      <td>...</td>\n",
       "      <td>...</td>\n",
       "      <td>...</td>\n",
       "      <td>...</td>\n",
       "      <td>...</td>\n",
       "    </tr>\n",
       "    <tr>\n",
       "      <th>270</th>\n",
       "      <td>60.69</td>\n",
       "      <td>0.6341</td>\n",
       "      <td>24</td>\n",
       "      <td>1095</td>\n",
       "      <td>84.480</td>\n",
       "    </tr>\n",
       "    <tr>\n",
       "      <th>271</th>\n",
       "      <td>62.30</td>\n",
       "      <td>0.7090</td>\n",
       "      <td>24</td>\n",
       "      <td>1073</td>\n",
       "      <td>84.230</td>\n",
       "    </tr>\n",
       "    <tr>\n",
       "      <th>272</th>\n",
       "      <td>62.79</td>\n",
       "      <td>0.7565</td>\n",
       "      <td>24</td>\n",
       "      <td>1056</td>\n",
       "      <td>84.019</td>\n",
       "    </tr>\n",
       "    <tr>\n",
       "      <th>273</th>\n",
       "      <td>55.00</td>\n",
       "      <td>0.8900</td>\n",
       "      <td>24</td>\n",
       "      <td>1077</td>\n",
       "      <td>84.010</td>\n",
       "    </tr>\n",
       "    <tr>\n",
       "      <th>274</th>\n",
       "      <td>59.00</td>\n",
       "      <td>0.7900</td>\n",
       "      <td>24</td>\n",
       "      <td>1070</td>\n",
       "      <td>84.180</td>\n",
       "    </tr>\n",
       "  </tbody>\n",
       "</table>\n",
       "<p>251 rows × 5 columns</p>\n",
       "</div>"
      ],
      "text/plain": [
       "     Amb_Temp_F  Avg_RH_Pct  Base_hours  Gen_MWH Comp_eff\n",
       "0         80.70      0.6210          24     1064   85.700\n",
       "1         81.60      0.6280          24     1057   85.700\n",
       "2         78.00      0.6310          24     1072   85.700\n",
       "3         81.00      0.4790          24     1086   85.540\n",
       "4         81.10      0.4830          24     1087   85.570\n",
       "..          ...         ...         ...      ...      ...\n",
       "270       60.69      0.6341          24     1095   84.480\n",
       "271       62.30      0.7090          24     1073   84.230\n",
       "272       62.79      0.7565          24     1056   84.019\n",
       "273       55.00      0.8900          24     1077   84.010\n",
       "274       59.00      0.7900          24     1070   84.180\n",
       "\n",
       "[251 rows x 5 columns]"
      ]
     },
     "execution_count": 2,
     "metadata": {},
     "output_type": "execute_result"
    }
   ],
   "source": [
    "print(df.columns)\n",
    "\n",
    "df=df[df[\"Base_hours\"]==24]\n",
    "df"
   ]
  },
  {
   "cell_type": "code",
   "execution_count": 3,
   "metadata": {},
   "outputs": [
    {
     "data": {
      "text/plain": [
       "0      1064\n",
       "1      1057\n",
       "2      1072\n",
       "3      1086\n",
       "4      1087\n",
       "       ... \n",
       "270    1095\n",
       "271    1073\n",
       "272    1056\n",
       "273    1077\n",
       "274    1070\n",
       "Name: Gen_MWH, Length: 251, dtype: int64"
      ]
     },
     "execution_count": 3,
     "metadata": {},
     "output_type": "execute_result"
    }
   ],
   "source": [
    "y=df[\"Gen_MWH\"]\n",
    "y"
   ]
  },
  {
   "cell_type": "code",
   "execution_count": 4,
   "metadata": {},
   "outputs": [
    {
     "data": {
      "text/html": [
       "<div>\n",
       "<style scoped>\n",
       "    .dataframe tbody tr th:only-of-type {\n",
       "        vertical-align: middle;\n",
       "    }\n",
       "\n",
       "    .dataframe tbody tr th {\n",
       "        vertical-align: top;\n",
       "    }\n",
       "\n",
       "    .dataframe thead th {\n",
       "        text-align: right;\n",
       "    }\n",
       "</style>\n",
       "<table border=\"1\" class=\"dataframe\">\n",
       "  <thead>\n",
       "    <tr style=\"text-align: right;\">\n",
       "      <th></th>\n",
       "      <th>Amb_Temp_F</th>\n",
       "      <th>Avg_RH_Pct</th>\n",
       "      <th>Base_hours</th>\n",
       "      <th>Comp_eff</th>\n",
       "    </tr>\n",
       "  </thead>\n",
       "  <tbody>\n",
       "    <tr>\n",
       "      <th>0</th>\n",
       "      <td>80.70</td>\n",
       "      <td>0.6210</td>\n",
       "      <td>24</td>\n",
       "      <td>85.700</td>\n",
       "    </tr>\n",
       "    <tr>\n",
       "      <th>1</th>\n",
       "      <td>81.60</td>\n",
       "      <td>0.6280</td>\n",
       "      <td>24</td>\n",
       "      <td>85.700</td>\n",
       "    </tr>\n",
       "    <tr>\n",
       "      <th>2</th>\n",
       "      <td>78.00</td>\n",
       "      <td>0.6310</td>\n",
       "      <td>24</td>\n",
       "      <td>85.700</td>\n",
       "    </tr>\n",
       "    <tr>\n",
       "      <th>3</th>\n",
       "      <td>81.00</td>\n",
       "      <td>0.4790</td>\n",
       "      <td>24</td>\n",
       "      <td>85.540</td>\n",
       "    </tr>\n",
       "    <tr>\n",
       "      <th>4</th>\n",
       "      <td>81.10</td>\n",
       "      <td>0.4830</td>\n",
       "      <td>24</td>\n",
       "      <td>85.570</td>\n",
       "    </tr>\n",
       "    <tr>\n",
       "      <th>...</th>\n",
       "      <td>...</td>\n",
       "      <td>...</td>\n",
       "      <td>...</td>\n",
       "      <td>...</td>\n",
       "    </tr>\n",
       "    <tr>\n",
       "      <th>270</th>\n",
       "      <td>60.69</td>\n",
       "      <td>0.6341</td>\n",
       "      <td>24</td>\n",
       "      <td>84.480</td>\n",
       "    </tr>\n",
       "    <tr>\n",
       "      <th>271</th>\n",
       "      <td>62.30</td>\n",
       "      <td>0.7090</td>\n",
       "      <td>24</td>\n",
       "      <td>84.230</td>\n",
       "    </tr>\n",
       "    <tr>\n",
       "      <th>272</th>\n",
       "      <td>62.79</td>\n",
       "      <td>0.7565</td>\n",
       "      <td>24</td>\n",
       "      <td>84.019</td>\n",
       "    </tr>\n",
       "    <tr>\n",
       "      <th>273</th>\n",
       "      <td>55.00</td>\n",
       "      <td>0.8900</td>\n",
       "      <td>24</td>\n",
       "      <td>84.010</td>\n",
       "    </tr>\n",
       "    <tr>\n",
       "      <th>274</th>\n",
       "      <td>59.00</td>\n",
       "      <td>0.7900</td>\n",
       "      <td>24</td>\n",
       "      <td>84.180</td>\n",
       "    </tr>\n",
       "  </tbody>\n",
       "</table>\n",
       "<p>251 rows × 4 columns</p>\n",
       "</div>"
      ],
      "text/plain": [
       "     Amb_Temp_F  Avg_RH_Pct  Base_hours Comp_eff\n",
       "0         80.70      0.6210          24   85.700\n",
       "1         81.60      0.6280          24   85.700\n",
       "2         78.00      0.6310          24   85.700\n",
       "3         81.00      0.4790          24   85.540\n",
       "4         81.10      0.4830          24   85.570\n",
       "..          ...         ...         ...      ...\n",
       "270       60.69      0.6341          24   84.480\n",
       "271       62.30      0.7090          24   84.230\n",
       "272       62.79      0.7565          24   84.019\n",
       "273       55.00      0.8900          24   84.010\n",
       "274       59.00      0.7900          24   84.180\n",
       "\n",
       "[251 rows x 4 columns]"
      ]
     },
     "execution_count": 4,
     "metadata": {},
     "output_type": "execute_result"
    }
   ],
   "source": [
    "df=df.drop(columns=\"Gen_MWH\")\n",
    "df"
   ]
  },
  {
   "cell_type": "code",
   "execution_count": 5,
   "metadata": {},
   "outputs": [
    {
     "data": {
      "text/plain": [
       "Text(0.5, 1.0, 'KMeans Pre Analysis')"
      ]
     },
     "execution_count": 5,
     "metadata": {},
     "output_type": "execute_result"
    },
    {
     "data": {
      "image/png": "[encoded data removed]",
      "text/plain": [
       "<Figure size 432x288 with 1 Axes>"
      ]
     },
     "metadata": {
      "needs_background": "light"
     },
     "output_type": "display_data"
    }
   ],
   "source": [
    "# Plot data to get an insight, what model can fit here?\n",
    "%matplotlib inline\n",
    "#df[[\"Amb_Temp_F\",\"Avg_RH_Pct\"]].hist(figsize=(18,5))\n",
    "colX=\"Avg_RH_Pct\"\n",
    "colY=\"Amb_Temp_F\"\n",
    "#colX, colY = colY, colX\n",
    "\n",
    "plt.plot(df[colX],\n",
    "         df[colY],\n",
    "         '.')\n",
    "plt.xlabel(df[colX].name)\n",
    "plt.ylabel(df[colY].name)\n",
    "plt.title(\"KMeans Pre Analysis\")\n",
    "\n",
    "\n"
   ]
  },
  {
   "cell_type": "code",
   "execution_count": 6,
   "metadata": {},
   "outputs": [
    {
     "name": "stdout",
     "output_type": "stream",
     "text": [
      "(200, 4) (200,)\n",
      "(51, 4) (51,)\n"
     ]
    }
   ],
   "source": [
    "# create training and testing vars\n",
    "X_train, X_test, y_train, y_test = train_test_split(df, y, test_size=0.2)\n",
    "print(X_train.shape, y_train.shape)\n",
    "print(X_test.shape, y_test.shape)"
   ]
  },
  {
   "cell_type": "code",
   "execution_count": 7,
   "metadata": {},
   "outputs": [],
   "source": [
    "# fit a model\n",
    "lm = linear_model.LinearRegression()\n",
    "model = lm.fit(X_train, y_train)\n",
    "predictions = model.predict(X_test)"
   ]
  },
  {
   "cell_type": "code",
   "execution_count": 8,
   "metadata": {},
   "outputs": [
    {
     "data": {
      "text/plain": [
       "Text(0, 0.5, 'Predictions')"
      ]
     },
     "execution_count": 8,
     "metadata": {},
     "output_type": "execute_result"
    },
    {
     "data": {
      "image/png": "[encoded data removed]",
      "text/plain": [
       "<Figure size 432x288 with 1 Axes>"
      ]
     },
     "metadata": {
      "needs_background": "light"
     },
     "output_type": "display_data"
    }
   ],
   "source": [
    "## The line / model\n",
    "plt.scatter(y_test, predictions)\n",
    "plt.xlabel(\"True Values\")\n",
    "plt.ylabel(\"Predictions\")"
   ]
  },
  {
   "cell_type": "code",
   "execution_count": 9,
   "metadata": {},
   "outputs": [
    {
     "data": {
      "text/plain": [
       "array([-13.79677291,   1.64464436,  -7.7159121 ,   5.07231955,\n",
       "         2.54580224,  -1.16323611,  -1.72067274,   3.75382768,\n",
       "         1.40865624,  12.67687354,   5.18974087,  -6.55953194,\n",
       "        -5.68020482,  -3.64865376,  -1.27507214,  22.83851367,\n",
       "         5.45232365,  15.20611634, -14.19609446,   1.53525164,\n",
       "        -2.0611419 ,  -2.78174108,  -0.42722563,   5.97265881,\n",
       "        -4.84828009, -10.50043143,   6.99707688,  -2.26394111,\n",
       "         6.67511025,   0.60623887,   3.68770135,  -1.13949656,\n",
       "        -0.89199588,  -2.007171  ,   0.78126916,  -7.4302008 ,\n",
       "        -5.95767849,  -2.26101143,  -5.05958122,   6.24172847,\n",
       "        -2.37396024,  -2.92012524,  -0.23815193,  -2.52738146,\n",
       "       -10.78485484,  -4.26525354,  17.28113355,  -5.53129002,\n",
       "        -4.57422251,  -6.10671835,  -2.0784395 ])"
      ]
     },
     "execution_count": 9,
     "metadata": {},
     "output_type": "execute_result"
    }
   ],
   "source": [
    "#d=y_test-predictions\n",
    "y_test.values-predictions"
   ]
  },
  {
   "cell_type": "code",
   "execution_count": 10,
   "metadata": {},
   "outputs": [
    {
     "data": {
      "text/html": [
       "<div>\n",
       "<style scoped>\n",
       "    .dataframe tbody tr th:only-of-type {\n",
       "        vertical-align: middle;\n",
       "    }\n",
       "\n",
       "    .dataframe tbody tr th {\n",
       "        vertical-align: top;\n",
       "    }\n",
       "\n",
       "    .dataframe thead th {\n",
       "        text-align: right;\n",
       "    }\n",
       "</style>\n",
       "<table border=\"1\" class=\"dataframe\">\n",
       "  <thead>\n",
       "    <tr style=\"text-align: right;\">\n",
       "      <th></th>\n",
       "      <th>Amb_Temp_F</th>\n",
       "      <th>Avg_RH_Pct</th>\n",
       "      <th>Comp_eff</th>\n",
       "    </tr>\n",
       "  </thead>\n",
       "  <tbody>\n",
       "    <tr>\n",
       "      <th>0</th>\n",
       "      <td>80.70</td>\n",
       "      <td>0.6210</td>\n",
       "      <td>85.700</td>\n",
       "    </tr>\n",
       "    <tr>\n",
       "      <th>1</th>\n",
       "      <td>81.60</td>\n",
       "      <td>0.6280</td>\n",
       "      <td>85.700</td>\n",
       "    </tr>\n",
       "    <tr>\n",
       "      <th>2</th>\n",
       "      <td>78.00</td>\n",
       "      <td>0.6310</td>\n",
       "      <td>85.700</td>\n",
       "    </tr>\n",
       "    <tr>\n",
       "      <th>3</th>\n",
       "      <td>81.00</td>\n",
       "      <td>0.4790</td>\n",
       "      <td>85.540</td>\n",
       "    </tr>\n",
       "    <tr>\n",
       "      <th>4</th>\n",
       "      <td>81.10</td>\n",
       "      <td>0.4830</td>\n",
       "      <td>85.570</td>\n",
       "    </tr>\n",
       "    <tr>\n",
       "      <th>...</th>\n",
       "      <td>...</td>\n",
       "      <td>...</td>\n",
       "      <td>...</td>\n",
       "    </tr>\n",
       "    <tr>\n",
       "      <th>270</th>\n",
       "      <td>60.69</td>\n",
       "      <td>0.6341</td>\n",
       "      <td>84.480</td>\n",
       "    </tr>\n",
       "    <tr>\n",
       "      <th>271</th>\n",
       "      <td>62.30</td>\n",
       "      <td>0.7090</td>\n",
       "      <td>84.230</td>\n",
       "    </tr>\n",
       "    <tr>\n",
       "      <th>272</th>\n",
       "      <td>62.79</td>\n",
       "      <td>0.7565</td>\n",
       "      <td>84.019</td>\n",
       "    </tr>\n",
       "    <tr>\n",
       "      <th>273</th>\n",
       "      <td>55.00</td>\n",
       "      <td>0.8900</td>\n",
       "      <td>84.010</td>\n",
       "    </tr>\n",
       "    <tr>\n",
       "      <th>274</th>\n",
       "      <td>59.00</td>\n",
       "      <td>0.7900</td>\n",
       "      <td>84.180</td>\n",
       "    </tr>\n",
       "  </tbody>\n",
       "</table>\n",
       "<p>251 rows × 3 columns</p>\n",
       "</div>"
      ],
      "text/plain": [
       "     Amb_Temp_F  Avg_RH_Pct Comp_eff\n",
       "0         80.70      0.6210   85.700\n",
       "1         81.60      0.6280   85.700\n",
       "2         78.00      0.6310   85.700\n",
       "3         81.00      0.4790   85.540\n",
       "4         81.10      0.4830   85.570\n",
       "..          ...         ...      ...\n",
       "270       60.69      0.6341   84.480\n",
       "271       62.30      0.7090   84.230\n",
       "272       62.79      0.7565   84.019\n",
       "273       55.00      0.8900   84.010\n",
       "274       59.00      0.7900   84.180\n",
       "\n",
       "[251 rows x 3 columns]"
      ]
     },
     "execution_count": 10,
     "metadata": {},
     "output_type": "execute_result"
    }
   ],
   "source": [
    "df=df.drop(columns=\"Base_hours\")\n",
    "df"
   ]
  },
  {
   "cell_type": "code",
   "execution_count": 11,
   "metadata": {},
   "outputs": [
    {
     "name": "stdout",
     "output_type": "stream",
     "text": [
      "(200, 3) (200,)\n",
      "(51, 3) (51,)\n"
     ]
    }
   ],
   "source": [
    "# create training and testing vars\n",
    "X_train, X_test, y_train, y_test = train_test_split(df, y, test_size=0.2)\n",
    "print(X_train.shape, y_train.shape)\n",
    "print(X_test.shape, y_test.shape)"
   ]
  },
  {
   "cell_type": "code",
   "execution_count": 12,
   "metadata": {},
   "outputs": [],
   "source": [
    "# fit a model\n",
    "lm = linear_model.LinearRegression()\n",
    "model = lm.fit(X_train, y_train)\n",
    "predictions = model.predict(X_test)"
   ]
  },
  {
   "cell_type": "code",
   "execution_count": 13,
   "metadata": {},
   "outputs": [
    {
     "data": {
      "text/plain": [
       "Text(0, 0.5, 'Predictions')"
      ]
     },
     "execution_count": 13,
     "metadata": {},
     "output_type": "execute_result"
    },
    {
     "data": {
      "image/png": "[encoded data removed]",
      "text/plain": [
       "<Figure size 432x288 with 1 Axes>"
      ]
     },
     "metadata": {
      "needs_background": "light"
     },
     "output_type": "display_data"
    }
   ],
   "source": [
    "## The line / model\n",
    "plt.scatter(y_test, predictions)\n",
    "plt.xlabel(\"True Values\")\n",
    "plt.ylabel(\"Predictions\")"
   ]
  },
  {
   "cell_type": "code",
   "execution_count": 14,
   "metadata": {},
   "outputs": [
    {
     "data": {
      "text/plain": [
       "array([[[1041, 1040,    1],\n",
       "        [1022, 1027,   -5],\n",
       "        [1020, 1018,    2],\n",
       "        [1076, 1072,    4],\n",
       "        [1022, 1025,   -3],\n",
       "        [1089, 1075,   14],\n",
       "        [1105, 1118,  -13],\n",
       "        [1040, 1048,   -8],\n",
       "        [1064, 1049,   15],\n",
       "        [1025, 1016,    9],\n",
       "        [1076, 1062,   14],\n",
       "        [1020, 1019,    1],\n",
       "        [1067, 1059,    8],\n",
       "        [1040, 1038,    2],\n",
       "        [1056, 1061,   -5],\n",
       "        [1035, 1030,    5],\n",
       "        [1049, 1047,    2],\n",
       "        [1020, 1021,   -1],\n",
       "        [1017, 1020,   -3],\n",
       "        [1084, 1094,  -10],\n",
       "        [1011, 1015,   -4],\n",
       "        [1016, 1017,   -1],\n",
       "        [1016, 1024,   -8],\n",
       "        [1030, 1011,   19],\n",
       "        [1078, 1088,  -10],\n",
       "        [1020, 1020,    0],\n",
       "        [1016, 1012,    4],\n",
       "        [1016, 1026,  -10],\n",
       "        [1056, 1045,   11],\n",
       "        [1013, 1019,   -6],\n",
       "        [1008, 1004,    4],\n",
       "        [1020, 1019,    1],\n",
       "        [1083, 1089,   -6],\n",
       "        [1027, 1024,    3],\n",
       "        [1006, 1012,   -6],\n",
       "        [1113, 1107,    6],\n",
       "        [1084, 1059,   25],\n",
       "        [1096, 1053,   43],\n",
       "        [1054, 1056,   -2],\n",
       "        [1025, 1019,    6],\n",
       "        [1013, 1005,    8],\n",
       "        [1035, 1032,    3],\n",
       "        [1062, 1059,    3],\n",
       "        [1027, 1018,    9],\n",
       "        [1010, 1017,   -7],\n",
       "        [1059, 1056,    3],\n",
       "        [1070, 1068,    2],\n",
       "        [1005, 1009,   -4],\n",
       "        [1022, 1013,    9],\n",
       "        [1012, 1010,    2],\n",
       "        [1018, 1018,    0]]], dtype=int64)"
      ]
     },
     "execution_count": 14,
     "metadata": {},
     "output_type": "execute_result"
    }
   ],
   "source": [
    "type(predictions)\n",
    "predictions=predictions.astype(int)\n",
    "np.dstack((y_test.values,predictions,(y_test.values-predictions)))"
   ]
  },
  {
   "cell_type": "code",
   "execution_count": 15,
   "metadata": {},
   "outputs": [
    {
     "data": {
      "text/plain": [
       "2.4705882352941178"
      ]
     },
     "execution_count": 15,
     "metadata": {},
     "output_type": "execute_result"
    }
   ],
   "source": [
    "np.average((y_test.values-predictions))"
   ]
  }
 ],
 "metadata": {
  "kernelspec": {
   "display_name": "Python 3",
   "language": "python",
   "name": "python3"
  },
  "language_info": {
   "codemirror_mode": {
    "name": "ipython",
    "version": 3
   },
   "file_extension": ".py",
   "mimetype": "text/x-python",
   "name": "python",
   "nbconvert_exporter": "python",
   "pygments_lexer": "ipython3",
   "version": "3.8.5"
  }
 },
 "nbformat": 4,
 "nbformat_minor": 4
}
